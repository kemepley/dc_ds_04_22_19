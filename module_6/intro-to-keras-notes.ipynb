{
 "cells": [
  {
   "cell_type": "markdown",
   "metadata": {},
   "source": [
    "<h1 style=\"color:brown;\">  Hands on practice with neural network</h1> "
   ]
  },
  {
   "cell_type": "markdown",
   "metadata": {},
   "source": [
    "### Lesson plan"
   ]
  },
  {
   "cell_type": "markdown",
   "metadata": {},
   "source": [
    "1. How to evaluate a model? <a href=\"https://colah.github.io/posts/2015-09-Visual-Information/\">cross-entropy</a>\n",
    "2. Types of Neural Nets\n",
    "3. Keras & Tensorflow - specialized framework (python library) for machine learning\n",
    "4. Hands on image reconstruction with Keras (approximately PCA)"
   ]
  },
  {
   "cell_type": "markdown",
   "metadata": {},
   "source": [
    "### 2. Few of the types of neural networks  "
   ]
  },
  {
   "cell_type": "markdown",
   "metadata": {},
   "source": [
    "- Classic - earlier today\n",
    "- Auto-encoder (like PCA finding compressed representation) - now\n",
    "\n",
    "the hidden layer is an encoding of the generalization\n",
    "- Recurrent neural network - coming soon\n",
    "- Convlutional neural networks - coming soon"
   ]
  },
  {
   "cell_type": "markdown",
   "metadata": {},
   "source": [
    "![](./img/RNN.png)"
   ]
  },
  {
   "cell_type": "markdown",
   "metadata": {},
   "source": [
    "![](./img/CNN.png)"
   ]
  },
  {
   "cell_type": "markdown",
   "metadata": {},
   "source": [
    "![](./img/autorec.png)"
   ]
  },
  {
   "cell_type": "markdown",
   "metadata": {
    "slideshow": {
     "slide_type": "slide"
    }
   },
   "source": [
    "### 3. Tensorflow and Keras\n",
    "##### An Example"
   ]
  },
  {
   "cell_type": "markdown",
   "metadata": {
    "slideshow": {
     "slide_type": "slide"
    }
   },
   "source": [
    "### Image Classification\n",
    "[CIFAR-10](http://www.cs.toronto.edu/~kriz/cifar.html) is a common benchmark in machine learning for image recognition. The CIFAR-10 dataset consists of 60000 32x32 colour images in 10 classes, with 6000 images per class. There are 50000 training images and 10000 test images. \n",
    "\n",
    "<img align =left src=\"./img/c10imgcat.png\">"
   ]
  },
  {
   "cell_type": "markdown",
   "metadata": {
    "slideshow": {
     "slide_type": "slide"
    }
   },
   "source": [
    "<img align =left src=\"./img/tf-logo3.png\"><br>\n",
    "\n",
    "\n",
    "This task can be accomplished in TensorFlow and the code can be found [here](https://github.com/tensorflow/models/tree/master/tutorials/image/cifar10/). Let's look at it together. "
   ]
  },
  {
   "cell_type": "markdown",
   "metadata": {
    "slideshow": {
     "slide_type": "slide"
    }
   },
   "source": [
    "<img align =left src=\"./img/keras.png\"><br>\n",
    "\n",
    "Now, the same task in [in Keras](https://keras.io/examples/cifar10_cnn/). After looking at it and comparing it to the tensorflow code, what do you notice? Any formatting look familiar?"
   ]
  },
  {
   "cell_type": "markdown",
   "metadata": {
    "slideshow": {
     "slide_type": "slide"
    }
   },
   "source": [
    "### Similar to another scenario we've seen:\n",
    "\n",
    "![statsmodels](./img/statsmodels_hybi_banner.png)\n",
    "\n",
    "vs\n",
    "\n",
    "![sklearn](./img/sklearn.png )"
   ]
  },
  {
   "cell_type": "markdown",
   "metadata": {
    "slideshow": {
     "slide_type": "slide"
    }
   },
   "source": [
    "### Okay, but should I use Keras or Tensorflow?\n",
    "![wrong question](https://www.pyimagesearch.com/wp-content/uploads/2018/10/keras_vs_tensorflow_wrong_question.jpg)"
   ]
  },
  {
   "cell_type": "markdown",
   "metadata": {
    "slideshow": {
     "slide_type": "slide"
    }
   },
   "source": [
    "### Keras is an API\n",
    "\n",
    "Coded in Python, that can be layered on top of many different back-end processing systems.\n",
    "\n",
    "![kerasback](./img/keras_2.png)\n",
    "\n",
    "While each of these systems has their own coding methods, Keras abstracts from that in streamlined pythonic manner we are used to seeing in other python modeling libraries.\n",
    "\n",
    "Keras development is backed primarily by Google, and the Keras API comes packaged in TensorFlow as tf.keras. Additionally, Microsoft maintains the CNTK Keras backend. Amazon AWS is maintaining the Keras fork with MXNet support. Other contributing companies include NVIDIA, Uber, and Apple (with CoreML)."
   ]
  },
  {
   "cell_type": "markdown",
   "metadata": {
    "slideshow": {
     "slide_type": "slide"
    }
   },
   "source": [
    "## Wait, what's TensorFlow?\n"
   ]
  },
  {
   "cell_type": "markdown",
   "metadata": {
    "slideshow": {
     "slide_type": "fragment"
    }
   },
   "source": [
    "## Let's start with tensors"
   ]
  },
  {
   "cell_type": "markdown",
   "metadata": {
    "slideshow": {
     "slide_type": "slide"
    }
   },
   "source": [
    "## Tensors are multidimensional matricies\n",
    "\n",
    "![tensor](./img/tensors.png)"
   ]
  },
  {
   "cell_type": "markdown",
   "metadata": {},
   "source": [
    "### TensorFlow manages the flow of matrix math\n",
    "\n",
    "That makes neural network processing possible.\n",
    "\n",
    "![cat](./img/cat-tensors.gif)"
   ]
  },
  {
   "cell_type": "markdown",
   "metadata": {},
   "source": [
    "## TensorFlow at its start\n",
    "\n",
    "An open-source library\n",
    "\n",
    "![more-arch](./img/layers.png)"
   ]
  },
  {
   "cell_type": "markdown",
   "metadata": {
    "slideshow": {
     "slide_type": "slide"
    }
   },
   "source": [
    "### 2007 Keras was fully integrated into TensorFlow\n",
    "\n",
    "It \"comes with\" Tensorflow and provides all the medium to high end API services to integrate with tensorflow processing.\n",
    "\n",
    "![tensorflow-prog](./img/tensorflow_programming_environment.png)"
   ]
  },
  {
   "cell_type": "markdown",
   "metadata": {},
   "source": [
    "### Keras, an API with an intentional UX\n",
    "\n",
    "- Deliberately design end-to-end user workflows\n",
    "- Reduce cognitive load for your users\n",
    "- Provide helpful feedback to your users\n",
    "\n",
    "[full article here](https://blog.keras.io/user-experience-design-for-apis.html)<br>\n",
    "[full list of why to use Keras](https://keras.io/why-use-keras/)"
   ]
  },
  {
   "cell_type": "markdown",
   "metadata": {},
   "source": [
    "### A few comparisons\n",
    "\n",
    "While you **can leverage both**, here are a few comparisons.\n",
    "\n",
    "| Comparison | Keras | Tensorflow|\n",
    "|------------|-------|-----------|\n",
    "| **Level of API** | high-level API | High and low-level APIs |\n",
    "| **Speed** |  can *seem* slower |  is a bit faster |\n",
    "| **Language architecture** | simple architecture, more readable and concise | straight tensorflow is a bit mroe complex |\n",
    "| **Debugging** | less frequent need to debug | difficult to debug |\n",
    "| **Datasets** | usually used for small datasets | high performance models and large datasets that require fast execution|\n",
    "\n",
    "This is also a _**non-issue**_ - as you can leverage tensorflow commands within keras and vice versa. If Keras ever seems slower, it's because the developer's time is more expensive than the GPUs. Keras is designed with the developer in mind. \n",
    "\n",
    "\n",
    "[reference link](https://www.edureka.co/blog/keras-vs-tensorflow-vs-pytorch/)"
   ]
  },
  {
   "cell_type": "markdown",
   "metadata": {},
   "source": [
    "## More levers and buttons\n",
    "\n",
    "Coding directly in **Tensorflow** allows you to tweak more parameters to optimize performance. The **Keras** wrapper makes the code more accessible for developers prototyping models.\n",
    "\n",
    "![levers](./img/levers.jpeg)"
   ]
  },
  {
   "cell_type": "markdown",
   "metadata": {},
   "source": [
    "### Building our first Neural Network - Auto-encoder"
   ]
  },
  {
   "cell_type": "markdown",
   "metadata": {},
   "source": [
    "#### Install Keras & tensorflow"
   ]
  },
  {
   "cell_type": "code",
   "execution_count": 4,
   "metadata": {},
   "outputs": [],
   "source": [
    "#!pip install tensorflow\n",
    "#!pip install keras"
   ]
  },
  {
   "cell_type": "markdown",
   "metadata": {},
   "source": [
    "### Keras basic syntax "
   ]
  },
  {
   "cell_type": "markdown",
   "metadata": {},
   "source": [
    "<a href=\"https://keras.io\">Documentation</a>"
   ]
  },
  {
   "cell_type": "code",
   "execution_count": 2,
   "metadata": {},
   "outputs": [],
   "source": [
    "import keras"
   ]
  },
  {
   "cell_type": "code",
   "execution_count": 3,
   "metadata": {},
   "outputs": [],
   "source": [
    "## initialize the model\n",
    "from keras.models import Sequential\n",
    "model = Sequential()"
   ]
  },
  {
   "cell_type": "code",
   "execution_count": 5,
   "metadata": {},
   "outputs": [
    {
     "name": "stderr",
     "output_type": "stream",
     "text": [
      "W0711 13:56:41.247589 4562466240 deprecation_wrapper.py:119] From /anaconda3/lib/python3.7/site-packages/keras/backend/tensorflow_backend.py:517: The name tf.placeholder is deprecated. Please use tf.compat.v1.placeholder instead.\n",
      "\n"
     ]
    }
   ],
   "source": [
    "from keras.layers import Input\n",
    "\n",
    "## prepare a placeholder for input\n",
    "# this is our input placeholder\n",
    "inp = Input(shape=(784,)) # here shape (784, ) means we specify only the number of rows but we can input as many columns as we would like"
   ]
  },
  {
   "cell_type": "code",
   "execution_count": null,
   "metadata": {},
   "outputs": [],
   "source": [
    "## Adding layers --> simple as .add()\n",
    "## Remember Dense means linear layer + activation\n",
    "## after the first layer, you don't need to specify\n",
    "layer_1 = model.add(Dense(units=64, activation='relu'))(inp) # --> output will be (64, )\n",
    "layer_2 = model.add(Dense(units=10, activation='softmax'))(layer_1)# --> output will be (10, )"
   ]
  },
  {
   "cell_type": "code",
   "execution_count": null,
   "metadata": {},
   "outputs": [],
   "source": [
    "# Option I - gradient descent\n",
    "model.compile(loss='mean_squared_error',\n",
    "              optimizer='sgd',\n",
    "              metrics=['mae', 'acc'])\n",
    "\n",
    "# Option II - adadelta\n",
    "model.compile(optimizer='adadelta', loss='binary_crossentropy')"
   ]
  },
  {
   "cell_type": "markdown",
   "metadata": {},
   "source": [
    "<a href=\"https://keras.io/optimizers/\">more optimizers</a>"
   ]
  },
  {
   "cell_type": "code",
   "execution_count": null,
   "metadata": {},
   "outputs": [],
   "source": [
    "# Training the model!\n",
    "history = model.fit(X_train, Y_train,\n",
    "          batch_size=128, epochs=20,\n",
    "          validation_data=(X_test, Y_test)) "
   ]
  },
  {
   "cell_type": "code",
   "execution_count": null,
   "metadata": {},
   "outputs": [],
   "source": [
    "# Results of the model over epochs\n",
    "history.history['val_acc'] \n",
    "history.history['loss']"
   ]
  },
  {
   "cell_type": "code",
   "execution_count": null,
   "metadata": {},
   "outputs": [],
   "source": [
    "## Evaluate\n",
    "loss_and_metrics = .evaluate(X_test, Y_test)"
   ]
  },
  {
   "cell_type": "code",
   "execution_count": null,
   "metadata": {},
   "outputs": [],
   "source": [
    "### Useful\n",
    "model.save(model_path) # Save your weights and computational graph\n",
    "load_model(file_name) # loading the saved model from above\n",
    "keras.layers.Reshape() # you might need to flatten an image, for example"
   ]
  },
  {
   "cell_type": "markdown",
   "metadata": {},
   "source": [
    "### Your exercise:  Image reconstruction using auto-encoder"
   ]
  },
  {
   "cell_type": "markdown",
   "metadata": {},
   "source": [
    "##### Import dataset - Mnist (handwritten digits)"
   ]
  },
  {
   "cell_type": "code",
   "execution_count": 66,
   "metadata": {},
   "outputs": [],
   "source": [
    "# keras imports for the dataset and building our neural network\n",
    "from keras.datasets import mnist\n",
    "from keras.models import Sequential, load_model, Input\n",
    "from keras.layers.core import Dense, Dropout, Activation\n",
    "from keras.utils import np_utils"
   ]
  },
  {
   "cell_type": "code",
   "execution_count": 67,
   "metadata": {},
   "outputs": [],
   "source": [
    "### a. Load the Mnist dataset and split to train/test (use )\n",
    "### b. Plot few images with their label\n",
    "### c. reshape images to 784 dim vector and normalize (divide by 255)\n",
    "### d. Create a new model with 1 Dense layers sized 32 (encoder) with relu layer. \n",
    "### Then add a dense layer sized 784 with sigmoid activation.\n",
    "### Run it for 50 epochs with batches of 256. Use binary cross-entropy. \n",
    "### e. Plot the model loss\n",
    "### f. Use predict to encode and decode x_test"
   ]
  },
  {
   "cell_type": "code",
   "execution_count": 221,
   "metadata": {},
   "outputs": [],
   "source": [
    "(X_train, y_train), (X_test, y_test) = mnist.load_data()"
   ]
  },
  {
   "cell_type": "code",
   "execution_count": 222,
   "metadata": {},
   "outputs": [
    {
     "data": {
      "text/plain": [
       "60000"
      ]
     },
     "execution_count": 222,
     "metadata": {},
     "output_type": "execute_result"
    }
   ],
   "source": [
    "len(X_train)"
   ]
  },
  {
   "cell_type": "code",
   "execution_count": 223,
   "metadata": {},
   "outputs": [],
   "source": [
    "%matplotlib inline\n",
    "import matplotlib.pyplot as plt\n",
    "from matplotlib.pyplot import imshow\n",
    "import numpy as np"
   ]
  },
  {
   "cell_type": "code",
   "execution_count": 224,
   "metadata": {},
   "outputs": [
    {
     "data": {
      "text/plain": [
       "<matplotlib.image.AxesImage at 0xb63811e48>"
      ]
     },
     "execution_count": 224,
     "metadata": {},
     "output_type": "execute_result"
    },
    {
     "data": {
      "image/png": "[encoded data removed]",
      "text/plain": [
       "<Figure size 432x288 with 3 Axes>"
      ]
     },
     "metadata": {
      "needs_background": "light"
     },
     "output_type": "display_data"
    }
   ],
   "source": [
    "plt.subplot(1,3,1)\n",
    "imshow(X_test[0], cmap = 'gray')\n",
    "plt.subplot(1,3,2)\n",
    "imshow(X_test[1], cmap = 'gray')\n",
    "plt.subplot(1,3,3)\n",
    "imshow(X_test[2], cmap = 'gray')"
   ]
  },
  {
   "cell_type": "code",
   "execution_count": 225,
   "metadata": {},
   "outputs": [
    {
     "data": {
      "text/plain": [
       "(10000, 784)"
      ]
     },
     "execution_count": 225,
     "metadata": {},
     "output_type": "execute_result"
    }
   ],
   "source": [
    "X_train = X_train.reshape(-1, 784).astype('float32')/255. #numpy will infer the other dimension if you use -1\n",
    "\n",
    "X_test = X_test.reshape(-1, 784).astype('float32')/255.\n",
    "X_test.shape"
   ]
  },
  {
   "cell_type": "code",
   "execution_count": 226,
   "metadata": {},
   "outputs": [],
   "source": [
    "model = Sequential()\n",
    "inp = Input(shape=(784,))\n",
    "\n",
    "layer_1 = model.add(Dense(units=32, activation='relu')) # --> output will be (64, )\n",
    "layer_2 = model.add(Dense(units=784, activation='sigmoid'))# --> output will be (10, )"
   ]
  },
  {
   "cell_type": "code",
   "execution_count": 227,
   "metadata": {},
   "outputs": [],
   "source": [
    "model.compile(loss='mean_squared_error',\n",
    "              optimizer='sgd',\n",
    "              metrics=['mae', 'acc'])\n",
    "\n",
    "# Option II - adadelta\n",
    "model.compile(optimizer='adadelta', loss='binary_crossentropy')"
   ]
  },
  {
   "cell_type": "code",
   "execution_count": 228,
   "metadata": {},
   "outputs": [
    {
     "name": "stdout",
     "output_type": "stream",
     "text": [
      "Train on 60000 samples, validate on 10000 samples\n",
      "Epoch 1/100\n",
      "60000/60000 [==============================] - 3s 55us/step - loss: 0.3606 - val_loss: 0.2707\n",
      "Epoch 2/100\n",
      "60000/60000 [==============================] - 3s 48us/step - loss: 0.2625 - val_loss: 0.2511\n",
      "Epoch 3/100\n",
      "60000/60000 [==============================] - 3s 44us/step - loss: 0.2421 - val_loss: 0.2311\n",
      "Epoch 4/100\n",
      "60000/60000 [==============================] - 3s 58us/step - loss: 0.2240 - val_loss: 0.2143\n",
      "Epoch 5/100\n",
      "60000/60000 [==============================] - 3s 46us/step - loss: 0.2091 - val_loss: 0.2013\n",
      "Epoch 6/100\n",
      "60000/60000 [==============================] - 3s 45us/step - loss: 0.1978 - val_loss: 0.1914\n",
      "Epoch 7/100\n",
      "60000/60000 [==============================] - 3s 45us/step - loss: 0.1890 - val_loss: 0.1834\n",
      "Epoch 8/100\n",
      "60000/60000 [==============================] - 3s 44us/step - loss: 0.1817 - val_loss: 0.1767\n",
      "Epoch 9/100\n",
      "60000/60000 [==============================] - 3s 44us/step - loss: 0.1755 - val_loss: 0.1710\n",
      "Epoch 10/100\n",
      "60000/60000 [==============================] - 3s 46us/step - loss: 0.1701 - val_loss: 0.1660\n",
      "Epoch 11/100\n",
      "60000/60000 [==============================] - 3s 46us/step - loss: 0.1654 - val_loss: 0.1615\n",
      "Epoch 12/100\n",
      "60000/60000 [==============================] - 3s 53us/step - loss: 0.1611 - val_loss: 0.1574\n",
      "Epoch 13/100\n",
      "60000/60000 [==============================] - 3s 47us/step - loss: 0.1572 - val_loss: 0.1537\n",
      "Epoch 14/100\n",
      "60000/60000 [==============================] - 3s 58us/step - loss: 0.1536 - val_loss: 0.1503\n",
      "Epoch 15/100\n",
      "60000/60000 [==============================] - 4s 70us/step - loss: 0.1503 - val_loss: 0.1471\n",
      "Epoch 16/100\n",
      "60000/60000 [==============================] - 3s 48us/step - loss: 0.1471 - val_loss: 0.1441\n",
      "Epoch 17/100\n",
      "60000/60000 [==============================] - 3s 48us/step - loss: 0.1442 - val_loss: 0.1412\n",
      "Epoch 18/100\n",
      "60000/60000 [==============================] - 3s 49us/step - loss: 0.1416 - val_loss: 0.1386\n",
      "Epoch 19/100\n",
      "60000/60000 [==============================] - 3s 49us/step - loss: 0.1391 - val_loss: 0.1362\n",
      "Epoch 20/100\n",
      "60000/60000 [==============================] - 3s 49us/step - loss: 0.1367 - val_loss: 0.1339\n",
      "Epoch 21/100\n",
      "60000/60000 [==============================] - 3s 50us/step - loss: 0.1345 - val_loss: 0.1317\n",
      "Epoch 22/100\n",
      "60000/60000 [==============================] - 3s 56us/step - loss: 0.1325 - val_loss: 0.1298\n",
      "Epoch 23/100\n",
      "60000/60000 [==============================] - 3s 49us/step - loss: 0.1306 - val_loss: 0.1280\n",
      "Epoch 24/100\n",
      "60000/60000 [==============================] - 3s 54us/step - loss: 0.1287 - val_loss: 0.1261\n",
      "Epoch 25/100\n",
      "60000/60000 [==============================] - 3s 58us/step - loss: 0.1270 - val_loss: 0.1245\n",
      "Epoch 26/100\n",
      "60000/60000 [==============================] - 3s 50us/step - loss: 0.1254 - val_loss: 0.1229\n",
      "Epoch 27/100\n",
      "60000/60000 [==============================] - 3s 49us/step - loss: 0.1238 - val_loss: 0.1213\n",
      "Epoch 28/100\n",
      "60000/60000 [==============================] - 3s 49us/step - loss: 0.1223 - val_loss: 0.1199\n",
      "Epoch 29/100\n",
      "60000/60000 [==============================] - 4s 73us/step - loss: 0.1210 - val_loss: 0.1185\n",
      "Epoch 30/100\n",
      "60000/60000 [==============================] - 3s 48us/step - loss: 0.1197 - val_loss: 0.1173\n",
      "Epoch 31/100\n",
      "60000/60000 [==============================] - 3s 48us/step - loss: 0.1184 - val_loss: 0.1161\n",
      "Epoch 32/100\n",
      "60000/60000 [==============================] - 3s 47us/step - loss: 0.1173 - val_loss: 0.1150\n",
      "Epoch 33/100\n",
      "60000/60000 [==============================] - 3s 48us/step - loss: 0.1162 - val_loss: 0.1139\n",
      "Epoch 34/100\n",
      "60000/60000 [==============================] - 3s 48us/step - loss: 0.1151 - val_loss: 0.1129\n",
      "Epoch 35/100\n",
      "60000/60000 [==============================] - 3s 48us/step - loss: 0.1142 - val_loss: 0.1120\n",
      "Epoch 36/100\n",
      "60000/60000 [==============================] - 3s 48us/step - loss: 0.1132 - val_loss: 0.1111\n",
      "Epoch 37/100\n",
      "60000/60000 [==============================] - 3s 50us/step - loss: 0.1124 - val_loss: 0.1102\n",
      "Epoch 38/100\n",
      "60000/60000 [==============================] - 3s 49us/step - loss: 0.1115 - val_loss: 0.1094\n",
      "Epoch 39/100\n",
      "60000/60000 [==============================] - 3s 48us/step - loss: 0.1108 - val_loss: 0.1087\n",
      "Epoch 40/100\n",
      "60000/60000 [==============================] - 3s 49us/step - loss: 0.1100 - val_loss: 0.1080\n",
      "Epoch 41/100\n",
      "60000/60000 [==============================] - 3s 48us/step - loss: 0.1094 - val_loss: 0.1073\n",
      "Epoch 42/100\n",
      "60000/60000 [==============================] - 3s 49us/step - loss: 0.1087 - val_loss: 0.1067\n",
      "Epoch 43/100\n",
      "60000/60000 [==============================] - 3s 56us/step - loss: 0.1081 - val_loss: 0.1061\n",
      "Epoch 44/100\n",
      "60000/60000 [==============================] - 3s 49us/step - loss: 0.1076 - val_loss: 0.1056\n",
      "Epoch 45/100\n",
      "60000/60000 [==============================] - 3s 58us/step - loss: 0.1070 - val_loss: 0.1051\n",
      "Epoch 46/100\n",
      "60000/60000 [==============================] - 3s 48us/step - loss: 0.1065 - val_loss: 0.1046\n",
      "Epoch 47/100\n",
      "60000/60000 [==============================] - 3s 49us/step - loss: 0.1061 - val_loss: 0.1042\n",
      "Epoch 48/100\n",
      "60000/60000 [==============================] - 3s 48us/step - loss: 0.1057 - val_loss: 0.1037\n",
      "Epoch 49/100\n",
      "60000/60000 [==============================] - 3s 49us/step - loss: 0.1053 - val_loss: 0.1034\n",
      "Epoch 50/100\n",
      "60000/60000 [==============================] - 3s 49us/step - loss: 0.1049 - val_loss: 0.1030\n",
      "Epoch 51/100\n",
      "60000/60000 [==============================] - 3s 48us/step - loss: 0.1045 - val_loss: 0.1027\n",
      "Epoch 52/100\n",
      "60000/60000 [==============================] - 3s 48us/step - loss: 0.1042 - val_loss: 0.1024\n",
      "Epoch 53/100\n",
      "60000/60000 [==============================] - 3s 57us/step - loss: 0.1039 - val_loss: 0.1021\n",
      "Epoch 54/100\n",
      "60000/60000 [==============================] - 4s 65us/step - loss: 0.1036 - val_loss: 0.1018\n",
      "Epoch 55/100\n",
      "60000/60000 [==============================] - 3s 48us/step - loss: 0.1034 - val_loss: 0.1016\n",
      "Epoch 56/100\n",
      "60000/60000 [==============================] - 4s 58us/step - loss: 0.1031 - val_loss: 0.1013\n",
      "Epoch 57/100\n",
      "60000/60000 [==============================] - 3s 53us/step - loss: 0.1029 - val_loss: 0.1011\n",
      "Epoch 58/100\n",
      "60000/60000 [==============================] - 3s 51us/step - loss: 0.1027 - val_loss: 0.1009\n",
      "Epoch 59/100\n",
      "60000/60000 [==============================] - 3s 54us/step - loss: 0.1025 - val_loss: 0.1007\n",
      "Epoch 60/100\n",
      "60000/60000 [==============================] - 3s 54us/step - loss: 0.1023 - val_loss: 0.1005\n",
      "Epoch 61/100\n",
      "60000/60000 [==============================] - 3s 54us/step - loss: 0.1021 - val_loss: 0.1003\n",
      "Epoch 62/100\n",
      "60000/60000 [==============================] - 3s 53us/step - loss: 0.1019 - val_loss: 0.1002\n",
      "Epoch 63/100\n",
      "60000/60000 [==============================] - 4s 61us/step - loss: 0.1017 - val_loss: 0.1000\n",
      "Epoch 64/100\n",
      "60000/60000 [==============================] - 4s 68us/step - loss: 0.1016 - val_loss: 0.0998\n",
      "Epoch 65/100\n",
      "60000/60000 [==============================] - 3s 56us/step - loss: 0.1014 - val_loss: 0.0997\n",
      "Epoch 66/100\n",
      "60000/60000 [==============================] - 3s 54us/step - loss: 0.1013 - val_loss: 0.0996\n",
      "Epoch 67/100\n",
      "60000/60000 [==============================] - 3s 49us/step - loss: 0.1011 - val_loss: 0.0994\n",
      "Epoch 68/100\n",
      "60000/60000 [==============================] - 4s 60us/step - loss: 0.1010 - val_loss: 0.0993\n",
      "Epoch 69/100\n",
      "60000/60000 [==============================] - 3s 57us/step - loss: 0.1008 - val_loss: 0.0991\n",
      "Epoch 70/100\n",
      "60000/60000 [==============================] - 3s 53us/step - loss: 0.1007 - val_loss: 0.0990\n",
      "Epoch 71/100\n",
      "60000/60000 [==============================] - 3s 54us/step - loss: 0.1006 - val_loss: 0.0989\n",
      "Epoch 72/100\n",
      "60000/60000 [==============================] - 3s 49us/step - loss: 0.1004 - val_loss: 0.0988\n",
      "Epoch 73/100\n",
      "60000/60000 [==============================] - 3s 47us/step - loss: 0.1003 - val_loss: 0.0986\n",
      "Epoch 74/100\n",
      "60000/60000 [==============================] - 3s 47us/step - loss: 0.1002 - val_loss: 0.0985\n",
      "Epoch 75/100\n",
      "60000/60000 [==============================] - 3s 48us/step - loss: 0.1001 - val_loss: 0.0984\n",
      "Epoch 76/100\n",
      "60000/60000 [==============================] - 3s 47us/step - loss: 0.0999 - val_loss: 0.0983\n",
      "Epoch 77/100\n"
     ]
    },
    {
     "name": "stdout",
     "output_type": "stream",
     "text": [
      "60000/60000 [==============================] - 3s 46us/step - loss: 0.0998 - val_loss: 0.0982\n",
      "Epoch 78/100\n",
      "60000/60000 [==============================] - 3s 45us/step - loss: 0.0997 - val_loss: 0.0981\n",
      "Epoch 79/100\n",
      "60000/60000 [==============================] - 3s 46us/step - loss: 0.0996 - val_loss: 0.0979\n",
      "Epoch 80/100\n",
      "60000/60000 [==============================] - 3s 52us/step - loss: 0.0995 - val_loss: 0.0978\n",
      "Epoch 81/100\n",
      "60000/60000 [==============================] - 4s 61us/step - loss: 0.0993 - val_loss: 0.0977\n",
      "Epoch 82/100\n",
      "60000/60000 [==============================] - 3s 54us/step - loss: 0.0992 - val_loss: 0.0976\n",
      "Epoch 83/100\n",
      "60000/60000 [==============================] - 3s 46us/step - loss: 0.0991 - val_loss: 0.0975\n",
      "Epoch 84/100\n",
      "60000/60000 [==============================] - 4s 59us/step - loss: 0.0990 - val_loss: 0.0974\n",
      "Epoch 85/100\n",
      "60000/60000 [==============================] - 3s 54us/step - loss: 0.0989 - val_loss: 0.0973\n",
      "Epoch 86/100\n",
      "60000/60000 [==============================] - 3s 52us/step - loss: 0.0988 - val_loss: 0.0972\n",
      "Epoch 87/100\n",
      "60000/60000 [==============================] - 3s 47us/step - loss: 0.0987 - val_loss: 0.0971\n",
      "Epoch 88/100\n",
      "60000/60000 [==============================] - 3s 50us/step - loss: 0.0986 - val_loss: 0.0970\n",
      "Epoch 89/100\n",
      "60000/60000 [==============================] - 3s 52us/step - loss: 0.0985 - val_loss: 0.0969\n",
      "Epoch 90/100\n",
      "60000/60000 [==============================] - 3s 49us/step - loss: 0.0984 - val_loss: 0.0968\n",
      "Epoch 91/100\n",
      "60000/60000 [==============================] - 3s 48us/step - loss: 0.0983 - val_loss: 0.0967\n",
      "Epoch 92/100\n",
      "60000/60000 [==============================] - 3s 52us/step - loss: 0.0982 - val_loss: 0.0966\n",
      "Epoch 93/100\n",
      "60000/60000 [==============================] - 3s 52us/step - loss: 0.0981 - val_loss: 0.0965\n",
      "Epoch 94/100\n",
      "60000/60000 [==============================] - 3s 51us/step - loss: 0.0980 - val_loss: 0.0964\n",
      "Epoch 95/100\n",
      "60000/60000 [==============================] - 3s 51us/step - loss: 0.0979 - val_loss: 0.0963\n",
      "Epoch 96/100\n",
      "60000/60000 [==============================] - 3s 50us/step - loss: 0.0978 - val_loss: 0.0963\n",
      "Epoch 97/100\n",
      "60000/60000 [==============================] - 3s 50us/step - loss: 0.0977 - val_loss: 0.0962\n",
      "Epoch 98/100\n",
      "60000/60000 [==============================] - 3s 51us/step - loss: 0.0976 - val_loss: 0.0961\n",
      "Epoch 99/100\n",
      "60000/60000 [==============================] - 3s 50us/step - loss: 0.0976 - val_loss: 0.0960\n",
      "Epoch 100/100\n",
      "60000/60000 [==============================] - 3s 50us/step - loss: 0.0975 - val_loss: 0.0959\n"
     ]
    }
   ],
   "source": [
    "history = model.fit(X_train, X_train,\n",
    "          batch_size=256, epochs=100,\n",
    "          validation_data=(X_test, X_test)) "
   ]
  },
  {
   "cell_type": "code",
   "execution_count": 229,
   "metadata": {},
   "outputs": [
    {
     "data": {
      "text/plain": [
       "[<matplotlib.lines.Line2D at 0xb6355ecf8>]"
      ]
     },
     "execution_count": 229,
     "metadata": {},
     "output_type": "execute_result"
    },
    {
     "data": {
      "image/png": "[encoded data removed]",
      "text/plain": [
       "<Figure size 432x288 with 1 Axes>"
      ]
     },
     "metadata": {
      "needs_background": "light"
     },
     "output_type": "display_data"
    }
   ],
   "source": [
    "\n",
    "plt.plot(history.history['loss'])\n",
    "\n",
    "plt.plot(history.history['val_loss'], color='orange')"
   ]
  },
  {
   "cell_type": "code",
   "execution_count": 230,
   "metadata": {},
   "outputs": [
    {
     "name": "stdout",
     "output_type": "stream",
     "text": [
      "10000/10000 [==============================] - 0s 36us/step\n"
     ]
    }
   ],
   "source": [
    "loss_and_metrics = model.evaluate(X_test, X_test)"
   ]
  },
  {
   "cell_type": "code",
   "execution_count": 231,
   "metadata": {},
   "outputs": [],
   "source": [
    "predictions =  model.predict(X_test)\n",
    "predictions_reshaped = predictions.reshape(-1,28,28)*255\n"
   ]
  },
  {
   "cell_type": "code",
   "execution_count": 232,
   "metadata": {},
   "outputs": [
    {
     "data": {
      "text/plain": [
       "<matplotlib.image.AxesImage at 0xb744c29e8>"
      ]
     },
     "execution_count": 232,
     "metadata": {},
     "output_type": "execute_result"
    },
    {
     "data": {
      "image/png": "[encoded data removed]",
      "text/plain": [
       "<Figure size 432x288 with 3 Axes>"
      ]
     },
     "metadata": {
      "needs_background": "light"
     },
     "output_type": "display_data"
    }
   ],
   "source": [
    "plt.subplot(1,3,1)\n",
    "imshow(predictions_reshaped[0], cmap='gray')\n",
    "plt.subplot(1,3,2)\n",
    "imshow(predictions_reshaped[1], cmap='gray')\n",
    "plt.subplot(1,3,3)\n",
    "imshow(predictions_reshaped[2], cmap='gray')"
   ]
  },
  {
   "cell_type": "code",
   "execution_count": 215,
   "metadata": {},
   "outputs": [],
   "source": [
    "# with this model we can take compressed image arrays (ones that are much smaller--32 dimensions \n",
    "# rather than 784) and fill in the gaps \n"
   ]
  },
  {
   "cell_type": "code",
   "execution_count": null,
   "metadata": {},
   "outputs": [],
   "source": []
  }
 ],
 "metadata": {
  "celltoolbar": "Slideshow",
  "kernelspec": {
   "display_name": "Python 3",
   "language": "python",
   "name": "python3"
  },
  "language_info": {
   "codemirror_mode": {
    "name": "ipython",
    "version": 3
   },
   "file_extension": ".py",
   "mimetype": "text/x-python",
   "name": "python",
   "nbconvert_exporter": "python",
   "pygments_lexer": "ipython3",
   "version": "3.7.3"
  }
 },
 "nbformat": 4,
 "nbformat_minor": 2
}
