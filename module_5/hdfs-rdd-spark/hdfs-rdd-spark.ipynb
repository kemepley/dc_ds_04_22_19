{
 "cells": [
  {
   "cell_type": "markdown",
   "metadata": {},
   "source": [
    "![hadoopspark](http://www.aptuz.com/static/media/uploads/blog/spark_and_hadoop.png)"
   ]
  },
  {
   "cell_type": "markdown",
   "metadata": {},
   "source": [
    "# Spark Gallery Walk\n",
    "\n",
    "## Instructions:\n",
    "- Self-select into four groups based on interest\n",
    "- Each group completes the assignment and each member should be prepared to talk on the findings\n",
    "- Traveling:\n",
    " - First two members of each group will travel to learn about the other stations\n",
    " - Group member roles will switch and other two members will travel while the first two stay to educate\n",
    "- While traveling, take notes on your handout\n",
    "- At the end, take a few moments to pause and assess the common themes and connective tissue between each station. What are the key take-aways?\n",
    "\n",
    "\n",
    "(Yes, I will provide a solution to this assignment come monday, but you'll get more out of it taking the first pass yourselves)"
   ]
  },
  {
   "cell_type": "markdown",
   "metadata": {},
   "source": [
    "### Group A: Probability Problem\n",
    "\n",
    "Using [this paper](https://lydiaychen.com/pdf/DSN14_Birke.pdf) (page 5) to inform you calculation:\n",
    "- You server cluster has 10 VM cores in the cloud (10 VMs) that hosts your RDBMS\n",
    "- Each core has a the same distribution of failure rate on a given day\n",
    "- When a core fails, on average it is out of commission for a full day to be fixed\n",
    "- Given this, how many days over the course of the year will you server not be at full capacity?"
   ]
  },
  {
   "cell_type": "markdown",
   "metadata": {},
   "source": [
    "### Group B: Physical demonstration\n",
    "\n",
    "Make a physical demo of how file replication is an essential part of HDFS. Resources:\n",
    "- [article one](https://cloudxlab.com/assessment/displayslide/143/hdfs-replication?playlist_id=24)\n",
    "- [article two](https://hadoop.apache.org/docs/r1.2.1/hdfs_design.html) particularly the section on datanodes.\n",
    "- [article three](https://data-flair.training/blogs/hadoop-cluster/) part on name node and data node"
   ]
  },
  {
   "cell_type": "markdown",
   "metadata": {},
   "source": [
    "### Group C: Definitions and distinctions\n",
    "\n",
    "For each pair of terms: \n",
    "- define each term\n",
    "- list any commonalities or how they relate\n",
    "- make any distinctions (how are they different, when is each appropriate)\n",
    "- relate them back to Spark\n",
    "\n",
    "\n",
    "| Term 1 |Term 2 |\n",
    "|--------|-------|\n",
    "| HDFS | RDD |\n",
    "|MapReduce | Hadoop |\n",
    "| distributed storage | distributed processing|\n",
    "| structured data | unstructured |\n",
    "| batch processing | real time processing |\n",
    "| Transformations | Actions |\n",
    "| Pandas | Spark|\n",
    "\n",
    "\n",
    "[great resource](https://www.educba.com/mapreduce-vs-apache-spark/)\n"
   ]
  },
  {
   "cell_type": "markdown",
   "metadata": {},
   "source": [
    "### Group D:\n",
    "\n",
    "- Create a diagram of the relevant components of the Spark ecosystem, defining the role of each component\n",
    "- Create a diagram of how they fit together in the spark architecture"
   ]
  },
  {
   "cell_type": "markdown",
   "metadata": {},
   "source": [
    "### Optional Task:\n",
    "\n",
    "Write as haiku capturing the essential message of your group's review.\n",
    "\n",
    "![haiku](https://media0.giphy.com/media/hM4bplPW4R7dC/giphy.gif?cid=790b76115d14333a7653745a51666253&rid=giphy.gif)"
   ]
  }
 ],
 "metadata": {
  "kernelspec": {
   "display_name": "Python 3",
   "language": "python",
   "name": "python3"
  },
  "language_info": {
   "codemirror_mode": {
    "name": "ipython",
    "version": 3
   },
   "file_extension": ".py",
   "mimetype": "text/x-python",
   "name": "python",
   "nbconvert_exporter": "python",
   "pygments_lexer": "ipython3",
   "version": "3.7.2"
  }
 },
 "nbformat": 4,
 "nbformat_minor": 2
}
