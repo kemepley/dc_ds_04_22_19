{
 "cells": [
  {
   "cell_type": "code",
   "execution_count": 114,
   "metadata": {},
   "outputs": [],
   "source": [
    "import matplotlib.pyplot as plt\n",
    "%matplotlib inline\n",
    "import numpy as np"
   ]
  },
  {
   "cell_type": "code",
   "execution_count": 143,
   "metadata": {},
   "outputs": [],
   "source": [
    "def get_dart_clr(uni_prob, cr_prob, cr, cr_li):\n",
    "    if((uni_prob <= cr_prob)):\n",
    "        _color = cr\n",
    "    else:\n",
    "        cr_li.remove(cr)\n",
    "        cr = np.random.choice(cr_li)\n",
    "    return cr"
   ]
  },
  {
   "cell_type": "code",
   "execution_count": 147,
   "metadata": {},
   "outputs": [],
   "source": [
    "def throw_dart(lim_x, lim_y):\n",
    "    pt_x = np.random.uniform(0, lim_x)\n",
    "    pt_y = np.random.uniform(0, lim_y)\n",
    "\n",
    "    return [pt_x, pt_y]"
   ]
  },
  {
   "cell_type": "code",
   "execution_count": 169,
   "metadata": {},
   "outputs": [
    {
     "data": {
      "image/png": "[encoded data removed]",
      "text/plain": [
       "<Figure size 432x288 with 1 Axes>"
      ]
     },
     "metadata": {
      "needs_background": "light"
     },
     "output_type": "display_data"
    }
   ],
   "source": [
    "pt_li = [] \n",
    "cr_li = []\n",
    "ax.set_xlim([0,20]); axes.set_ylim([0,25])\n",
    "f, ax = plt.subplots(1)\n",
    "ax.axvline(10); ax.axhline(12.5)\n",
    "darts = range(1000)\n",
    "for dart in darts:\n",
    "    crs = ['red', 'blue', 'green', 'yellow']\n",
    "    prob = np.random.uniform()\n",
    "    pt = throw_dart(20, 25)\n",
    "    \n",
    "    if((pt[0] <= 10) & (pt[1] <= 12.5)):\n",
    "        \n",
    "        c = get_dart_clr(prob, 0.7, 'red', crs)\n",
    "        \n",
    "    elif((pt[0] <= 10) & (pt[1] >= 12.5)):\n",
    "        \n",
    "        c = get_dart_clr(prob, 0.7, 'blue', crs)\n",
    "        \n",
    "    elif((pt[0] > 10) & (pt[1] >= 12.5)):\n",
    "        \n",
    "        c = get_dart_clr(prob, 0.7, 'green', crs)\n",
    "\n",
    "    else:\n",
    "        c = get_dart_clr(prob, 0.7, 'yellow', crs)\n",
    "\n",
    "        \n",
    "    pt_li.append(pt) \n",
    "    cr_li.append(c)\n",
    "        \n",
    "ax.scatter(np.array(pt_li)[:, 0], np.array(pt_li)[:, 1], marker='+', c = cr_li)\n",
    "plt.show()"
   ]
  },
  {
   "cell_type": "code",
   "execution_count": 157,
   "metadata": {},
   "outputs": [],
   "source": [
    "## We now have a list of the darts' location on the board. \n",
    "## Let's throw 15 more darts and try to get their color correctly.\n",
    "## Write a for loop to throw 15 darts and collect their locations in an array"
   ]
  },
  {
   "cell_type": "code",
   "execution_count": 160,
   "metadata": {},
   "outputs": [],
   "source": [
    "new_darts = []\n",
    "for i in range(15):\n",
    "    pt = throw_dart(20, 25)\n",
    "    new_darts.append(pt)\n",
    "new_darts = np.array(new_darts)"
   ]
  },
  {
   "cell_type": "code",
   "execution_count": 161,
   "metadata": {
    "scrolled": true
   },
   "outputs": [
    {
     "data": {
      "text/plain": [
       "array([[15.92221583,  2.70205463],\n",
       "       [ 6.35351776, 16.66448374],\n",
       "       [14.80646278, 14.28621714],\n",
       "       [ 0.08656528, 18.26384526],\n",
       "       [15.82890408,  3.35979542],\n",
       "       [11.35051903, 20.96338162],\n",
       "       [11.86982673,  7.35548907],\n",
       "       [ 7.00528839, 19.50061071],\n",
       "       [ 4.42101609, 22.21020888],\n",
       "       [ 1.02413502, 13.7984883 ],\n",
       "       [11.798365  ,  5.69413925],\n",
       "       [ 7.80789684,  7.95062044],\n",
       "       [14.46457369, 11.88217524],\n",
       "       [16.07004668,  2.55572971],\n",
       "       [18.81136538,  4.69600801]])"
      ]
     },
     "execution_count": 161,
     "metadata": {},
     "output_type": "execute_result"
    }
   ],
   "source": [
    "new_darts"
   ]
  },
  {
   "cell_type": "code",
   "execution_count": null,
   "metadata": {},
   "outputs": [],
   "source": [
    "## Run KNN between new darts and the darts already on the board"
   ]
  },
  {
   "cell_type": "code",
   "execution_count": 165,
   "metadata": {},
   "outputs": [],
   "source": [
    "from sklearn.neighbors import KNeighborsClassifier"
   ]
  },
  {
   "cell_type": "code",
   "execution_count": 167,
   "metadata": {
    "collapsed": true
   },
   "outputs": [
    {
     "data": {
      "text/plain": [
       "KNeighborsClassifier(algorithm='auto', leaf_size=30, metric='minkowski',\n",
       "           metric_params=None, n_jobs=None, n_neighbors=3, p=2,\n",
       "           weights='uniform')"
      ]
     },
     "execution_count": 167,
     "metadata": {},
     "output_type": "execute_result"
    }
   ],
   "source": [
    "neigh = KNeighborsClassifier(n_neighbors=3)\n",
    "neigh.fit(pt_li, cr_li) "
   ]
  },
  {
   "cell_type": "code",
   "execution_count": 168,
   "metadata": {},
   "outputs": [
    {
     "data": {
      "text/plain": [
       "array(['yellow', 'red', 'green', 'blue', 'yellow', 'green', 'yellow',\n",
       "       'blue', 'blue', 'blue', 'green', 'red', 'yellow', 'yellow', 'blue'],\n",
       "      dtype='<U6')"
      ]
     },
     "execution_count": 168,
     "metadata": {},
     "output_type": "execute_result"
    }
   ],
   "source": [
    "neigh.predict(new_darts)"
   ]
  },
  {
   "cell_type": "code",
   "execution_count": null,
   "metadata": {},
   "outputs": [],
   "source": [
    "### What is your accuracy?"
   ]
  },
  {
   "cell_type": "code",
   "execution_count": null,
   "metadata": {},
   "outputs": [],
   "source": [
    "### Can you build a confusion matrix for this problem?"
   ]
  }
 ],
 "metadata": {
  "kernelspec": {
   "display_name": "Python 3",
   "language": "python",
   "name": "python3"
  },
  "language_info": {
   "codemirror_mode": {
    "name": "ipython",
    "version": 3
   },
   "file_extension": ".py",
   "mimetype": "text/x-python",
   "name": "python",
   "nbconvert_exporter": "python",
   "pygments_lexer": "ipython3",
   "version": "3.7.3"
  }
 },
 "nbformat": 4,
 "nbformat_minor": 2
}
