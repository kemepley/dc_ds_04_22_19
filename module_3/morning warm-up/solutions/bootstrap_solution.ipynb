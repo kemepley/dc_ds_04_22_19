{
 "cells": [
  {
   "cell_type": "markdown",
   "metadata": {},
   "source": [
    "Thank you Mark!\n",
    "Import packages\n",
    "import numpy as np\n",
    "\n",
    "from __future__ import division\n",
    "\n",
    "1. bootstrapping !!\n",
    "Let's say we have a pandas dictionary (our sink) and inside we have one urn (with red and white balls). The urn has 40 red balls 60 white\n",
    "What's the probability to pick a red ball with replacement 3 times in a row ?\n",
    "Can you answer this question theoretically?\n",
    "lets create a simulation running 1000/10000/100000 iterations and count how many times we got three reds in a row.\n",
    "sink : {'urn': {'red': 40, 'white':60}}\n",
    "\n",
    "use np.random.rand\n",
    "\n",
    "2. push to github (are you close to the theortical distribution ??? If not check again!)\n",
    "[optional] 3. How will you create the same simulation without replacement ?"
   ]
  },
  {
   "cell_type": "markdown",
   "metadata": {},
   "source": [
    "### Import packages "
   ]
  },
  {
   "cell_type": "code",
   "execution_count": 2,
   "metadata": {},
   "outputs": [],
   "source": [
    "from __future__ import division\n",
    "import numpy as np\n",
    "import random"
   ]
  },
  {
   "cell_type": "code",
   "execution_count": 53,
   "metadata": {},
   "outputs": [],
   "source": [
    "sink =  {'urn': {'red': 40, 'white': 60}}"
   ]
  },
  {
   "cell_type": "code",
   "execution_count": 60,
   "metadata": {},
   "outputs": [
    {
     "name": "stdout",
     "output_type": "stream",
     "text": [
      "0.06379\n"
     ]
    }
   ],
   "source": [
    "#1. bootstrapping!!\n",
    "# 40/100 ** 3\n",
    "counter = 0\n",
    "three_reds = 0 \n",
    "num_samples = 100000\n",
    "\n",
    "for i in range(num_samples):\n",
    "    prob = np.random.rand()\n",
    "    if prob <= 0.4:\n",
    "    # pick red ball \n",
    "        three_reds += 1\n",
    "        if (three_reds == 3):\n",
    "            counter += 1\n",
    "            three_reds -= 1\n",
    "    else: \n",
    "    # pick white ball\n",
    "        three_reds = 0\n",
    "print(counter / num_samples)"
   ]
  },
  {
   "cell_type": "code",
   "execution_count": 106,
   "metadata": {},
   "outputs": [
    {
     "name": "stdout",
     "output_type": "stream",
     "text": [
      "100000\n",
      "5.99419\n"
     ]
    }
   ],
   "source": [
    "def pull_3_reds():\n",
    "    counter = 0\n",
    "    three_reds = 0 \n",
    "    num_samples = 100\n",
    "    sink =  {'urn': {'red': 40, 'white': 60}}\n",
    "    prob_red = sink['urn']['red']/(sink['urn']['white']+sink['urn']['red'])\n",
    "    #prob_white = sink['urn']['white']/(sink['urn']['white']+sink['urn']['red'])\n",
    "\n",
    "    #print(prob_red)\n",
    "\n",
    "    for i in range(num_samples):\n",
    "        prob = np.random.rand()\n",
    "        #print(prob)\n",
    "        prob_red = sink['urn']['red']/(sink['urn']['white']+sink['urn']['red'])\n",
    "        if prob <= prob_red:\n",
    "        # pick red ball \n",
    "            sink['urn']['red'] = sink['urn']['red']-1\n",
    "            #print(sink)\n",
    "            three_reds += 1\n",
    "            if (three_reds == 3):\n",
    "                counter += 1\n",
    "                three_reds -= 1\n",
    "        else: \n",
    "        # pick white ball\n",
    "            sink['urn']['white'] = sink['urn']['white']-1\n",
    "            #print(sink)\n",
    "            three_reds = 0\n",
    "\n",
    "    return counter\n",
    "\n",
    "counter_list = []\n",
    "for i in range(100000):\n",
    "    counter_list.append(pull_3_reds())\n",
    "\n",
    "print(len(counter_list))\n",
    "print(np.mean(counter_list))\n",
    "    "
   ]
  }
 ],
 "metadata": {
  "kernelspec": {
   "display_name": "Python 3",
   "language": "python",
   "name": "python3"
  },
  "language_info": {
   "codemirror_mode": {
    "name": "ipython",
    "version": 3
   },
   "file_extension": ".py",
   "mimetype": "text/x-python",
   "name": "python",
   "nbconvert_exporter": "python",
   "pygments_lexer": "ipython3",
   "version": "3.7.3"
  },
  "toc": {
   "base_numbering": 1,
   "nav_menu": {},
   "number_sections": true,
   "sideBar": true,
   "skip_h1_title": false,
   "title_cell": "Table of Contents",
   "title_sidebar": "Contents",
   "toc_cell": false,
   "toc_position": {},
   "toc_section_display": true,
   "toc_window_display": true
  },
  "varInspector": {
   "cols": {
    "lenName": 16,
    "lenType": 16,
    "lenVar": 40
   },
   "kernels_config": {
    "python": {
     "delete_cmd_postfix": "",
     "delete_cmd_prefix": "del ",
     "library": "var_list.py",
     "varRefreshCmd": "print(var_dic_list())"
    },
    "r": {
     "delete_cmd_postfix": ") ",
     "delete_cmd_prefix": "rm(",
     "library": "var_list.r",
     "varRefreshCmd": "cat(var_dic_list()) "
    }
   },
   "types_to_exclude": [
    "module",
    "function",
    "builtin_function_or_method",
    "instance",
    "_Feature"
   ],
   "window_display": false
  }
 },
 "nbformat": 4,
 "nbformat_minor": 2
}
