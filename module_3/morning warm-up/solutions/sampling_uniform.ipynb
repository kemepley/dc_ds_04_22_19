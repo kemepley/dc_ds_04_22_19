{
 "cells": [
  {
   "cell_type": "markdown",
   "metadata": {},
   "source": [
    "# Week 4, 4.1 Sampling cont."
   ]
  },
  {
   "cell_type": "code",
   "execution_count": 1,
   "metadata": {},
   "outputs": [],
   "source": [
    "import pickle\n",
    "import pandas as pd\n",
    "import seaborn as sns"
   ]
  },
  {
   "cell_type": "code",
   "execution_count": null,
   "metadata": {},
   "outputs": [],
   "source": [
    "# 1. create three variables coming from the uniform distribution x1 = 0.4, x2= 0.3, x3 = 0.3 (think of cumulative)\n",
    "# 2. run a simulation 100000 sampling at each step to decide which variable was picked.\n",
    "# times and store the results into a dictionary \n",
    "# 3. save the dictionary in a pkl file \n",
    "# 4. open the saved file  (check that what you have loaded is the same as your original dictionary )\n",
    "# 5. push to github your notebook and the pkl file \n",
    "\n",
    "uni_dict = {'x1': 0, 'x2': 0, 'x3':0}\n",
    "for sim_num in range(100000):\n",
    "    prob = np.random.uniform(0, 1)\n",
    "    if ((prob >=0) & (prob <=0.4)): \n",
    "        uni_dict['x1'] += 1\n",
    "    elif prob <= 0.7 : \n",
    "        uni_dict['x2'] += 1\n",
    "    else:\n",
    "        uni_dict['x3'] += 1\n",
    "    \n",
    "    \n",
    "\n",
    "uni_dict\n",
    "\n",
    "file_Name = \"uniform_sampling\"\n",
    "# open the file for writing\n",
    "file_object = open(file_Name,'wb') \n",
    "pickle.dump(uni_dict, file_object)   \n",
    "# here we close the file_object\n",
    "file_object.close()\n",
    "\n",
    "# we open the file for reading\n",
    "file_object = open(file_Name,'r')  \n",
    "# load the object from the file into var b\n",
    "b = pickle.load(file_object)  \n",
    "\n",
    "# [optional hard conceptually] 6. generate a sample from an exponential r.v using a uniform r.v on [0, 1]\n",
    "## we are going to use the following lemma : - Let U be uniform on [0,1], and let X = F−1(U). Then the cdf of X is F.\n",
    "## The inverse CDF of exponential is: −log(1−x)/λ (use np.log and lambda = )\n",
    "## simulate 1000 iterations and save results into a list\n",
    "## plot list using seaborn\n",
    "\n",
    "expo_dist = []\n",
    "for sim_num in range(1000):\n",
    "    prob = np.random.uniform(0, 1)\n",
    "    expo = -np.log(1-prob) / 1.5\n",
    "    expo_dist.append(expo)\n",
    "    \n",
    "    \n",
    "\n",
    "sns.distplot(expo_dist)"
   ]
  }
 ],
 "metadata": {
  "kernelspec": {
   "display_name": "Python 3",
   "language": "python",
   "name": "python3"
  },
  "language_info": {
   "codemirror_mode": {
    "name": "ipython",
    "version": 2
   },
   "file_extension": ".py",
   "mimetype": "text/x-python",
   "name": "python",
   "nbconvert_exporter": "python",
   "pygments_lexer": "ipython2",
   "version": "2.7.16"
  }
 },
 "nbformat": 4,
 "nbformat_minor": 2
}
