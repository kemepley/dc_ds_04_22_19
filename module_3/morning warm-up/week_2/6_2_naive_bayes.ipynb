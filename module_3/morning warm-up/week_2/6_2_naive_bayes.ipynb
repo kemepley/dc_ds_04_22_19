{
 "cells": [
  {
   "cell_type": "markdown",
   "metadata": {},
   "source": [
    "# Week 4, 4.3 Naive bayes - to be done in pairs/triplets"
   ]
  },
  {
   "cell_type": "code",
   "execution_count": 4,
   "metadata": {},
   "outputs": [],
   "source": [
    "import pandas as pd\n",
    "from __future__ import division"
   ]
  },
  {
   "cell_type": "code",
   "execution_count": null,
   "metadata": {},
   "outputs": [],
   "source": [
    "# lets create a classifier to identify an irish person from an english person \n",
    "# it's important to note that after the fun math naive bayes is the same as counting ! \n",
    "# [thought] Do you understand why ?\n",
    "\n",
    "\n",
    "# we have a vector of binary attribute representing (shortbread, lager, whiskey, porridge, football)\n",
    "# We also know that there are 50 people in the data base, 20 Irish people and 30 English --> so what is the probability\n",
    "# to be Irish ? \n",
    "\n",
    "## we also know: \n",
    "\n",
    "## \n",
    "# p(x1 = 1|english) = 1/2 \n",
    "# p(x2 = 1|english) = 1/2 \n",
    "# p(x3 = 1|english) = 1/3\n",
    "# p(x4 = 1|english) = 1/2\n",
    "# p(x5 = 1|english) = 1/2\n",
    "###\n",
    "# p(x1 = 1|scottish) = 1 \n",
    "# p(x2 = 1|scottish) = 4/7\n",
    "# p(x3 = 1|scottish)  = 3/7\n",
    "# p(x4 = 1|scottish)  = 5/7\n",
    "# p(x5 = 1|scottish)  = 3/7\n",
    "\n",
    "\n",
    "# 1. classify the following vectors : \n",
    "[1, 0, 1, 1, 0]\n",
    "[1, 1, 0, 0, 1]\n",
    "[1, 1, 1, 0, 1]\n",
    "[1, 1, 1, 1, 1]\n",
    "[0, 1, 1, 1, 0]\n",
    "[0, 1, 0, 0, 1]\n",
    "[1, 0, 1, 0, 0]\n",
    "\n",
    "# 2. Describe how would you build a junk mail classifier \n",
    "# 3. How would you fool such a classifier ? "
   ]
  },
  {
   "cell_type": "code",
   "execution_count": 5,
   "metadata": {},
   "outputs": [
    {
     "data": {
      "text/html": [
       "<div>\n",
       "<style scoped>\n",
       "    .dataframe tbody tr th:only-of-type {\n",
       "        vertical-align: middle;\n",
       "    }\n",
       "\n",
       "    .dataframe tbody tr th {\n",
       "        vertical-align: top;\n",
       "    }\n",
       "\n",
       "    .dataframe thead th {\n",
       "        text-align: right;\n",
       "    }\n",
       "</style>\n",
       "<table border=\"1\" class=\"dataframe\">\n",
       "  <thead>\n",
       "    <tr style=\"text-align: right;\">\n",
       "      <th></th>\n",
       "      <th>x1</th>\n",
       "      <th>x2</th>\n",
       "      <th>x3</th>\n",
       "      <th>x4</th>\n",
       "      <th>x5</th>\n",
       "    </tr>\n",
       "  </thead>\n",
       "  <tbody>\n",
       "    <tr>\n",
       "      <th>english</th>\n",
       "      <td>0.5</td>\n",
       "      <td>0.500000</td>\n",
       "      <td>0.333333</td>\n",
       "      <td>0.500000</td>\n",
       "      <td>0.500000</td>\n",
       "    </tr>\n",
       "    <tr>\n",
       "      <th>scottish</th>\n",
       "      <td>1.0</td>\n",
       "      <td>0.571429</td>\n",
       "      <td>0.428571</td>\n",
       "      <td>0.714286</td>\n",
       "      <td>0.428571</td>\n",
       "    </tr>\n",
       "  </tbody>\n",
       "</table>\n",
       "</div>"
      ],
      "text/plain": [
       "           x1        x2        x3        x4        x5\n",
       "english   0.5  0.500000  0.333333  0.500000  0.500000\n",
       "scottish  1.0  0.571429  0.428571  0.714286  0.428571"
      ]
     },
     "execution_count": 5,
     "metadata": {},
     "output_type": "execute_result"
    }
   ],
   "source": [
    "    results = {'x1': [0.5, 1], 'x2': [0.5, 4/7], 'x3': [1/3, 3/7], 'x4':[0.5, 5/7], 'x5': [0.5, 3/7]}\n",
    "    results_pd = pd.DataFrame(data = results)\n",
    "    results_pd.rename(index={0: 'english', 1:'scottish'})"
   ]
  },
  {
   "cell_type": "code",
   "execution_count": 10,
   "metadata": {},
   "outputs": [
    {
     "data": {
      "text/plain": [
       "0    0.500000\n",
       "1    0.571429\n",
       "Name: x2, dtype: float64"
      ]
     },
     "execution_count": 10,
     "metadata": {},
     "output_type": "execute_result"
    }
   ],
   "source": [
    "results_pd.iloc[:, 1]"
   ]
  },
  {
   "cell_type": "code",
   "execution_count": 11,
   "metadata": {},
   "outputs": [],
   "source": [
    "def scottish_naive_classifier(scot_prob, en_prob, known_probs, vec):\n",
    "    probs_scot = []\n",
    "    probs_en = []\n",
    "    for i in range(len(vec)):\n",
    "        if vec[i] == 1:\n",
    "            probs_scot.append(known_probs.iloc[1, i])\n",
    "            probs_en.append(known_probs.iloc[0, i])\n",
    "        else: \n",
    "            probs_scot.append(1 - known_probs.iloc[1, i])\n",
    "            probs_en.append(1 - known_probs.iloc[0, i])\n",
    "             \n",
    "    prob_scot = np.prod(probs_scot) / ((scot_prob * np.prod(probs_scot)) + (en_prob * np.prod(probs_en)))\n",
    "    \n",
    "    if probs_scot > 0.5 : \n",
    "        print ('Scottish')\n",
    "        return\n",
    "    else:\n",
    "        print('English')\n",
    "        return"
   ]
  },
  {
   "cell_type": "markdown",
   "metadata": {},
   "source": [
    "*** Adapted from David Barber book Bayesian reasoning and machine learning \n",
    "\n"
   ]
  }
 ],
 "metadata": {
  "kernelspec": {
   "display_name": "Python 3",
   "language": "python",
   "name": "python3"
  },
  "language_info": {
   "codemirror_mode": {
    "name": "ipython",
    "version": 2
   },
   "file_extension": ".py",
   "mimetype": "text/x-python",
   "name": "python",
   "nbconvert_exporter": "python",
   "pygments_lexer": "ipython2",
   "version": "2.7.16"
  }
 },
 "nbformat": 4,
 "nbformat_minor": 2
}
