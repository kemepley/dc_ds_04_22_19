{
 "cells": [
  {
   "cell_type": "markdown",
   "metadata": {},
   "source": [
    "# Week 4, 4.2 T-Test"
   ]
  },
  {
   "cell_type": "code",
   "execution_count": null,
   "metadata": {},
   "outputs": [],
   "source": [
    "import scipy\n",
    "\n",
    "# 1. load csv of suicide rates - pandas\n",
    "# 2. let's compare the hypo that the suicide rates in United States and Albania are the same.\n",
    "\n",
    "\n",
    "su_rates = pd.read_csv('/Users/omer/Downloads/suicide_rates.csv')\n",
    "\n",
    "su_rates_us_alb = su_rates[np.isin(su_rates['country'], ['Albania', 'United States'])]\n",
    "\n",
    "# 3. split to two data sets one for Albania and one for United States \n",
    "\n",
    "su_rate_us = su_rates_us_alb[su_rates_us_alb['country'] == 'United States']\n",
    "\n",
    "su_rate_alb = su_rates_us_alb[su_rates_us_alb['country'] == 'Albania']\n",
    "\n",
    "# 4. lets test it only on the group of 75+ years\n",
    "# [thought] if we want to group all ages how would you weight the suicide rate ? \n",
    "\n",
    "su_rate_us_75 = su_rate_us[su_rate_us['age'] == '75+ years']\n",
    "\n",
    "su_rate_alb_75 = su_rate_alb[su_rate_alb['age'] == '75+ years']\n",
    "\n",
    "# 5. groupby 'year' and choose only the suicides/100k pop column\n",
    "\n",
    "t_data_alb = su_rate_alb_75.groupby('year').mean().reset_index()['suicides/100k pop']\n",
    "\n",
    "t_data_us = su_rate_us_75.groupby('year').mean().reset_index()['suicides/100k pop']\n",
    "\n",
    "# 6. preform the t-test using scipy.stats.ttest_ind \n",
    "# [thought] Do you understand what is going on behind the scenes ? \n",
    "# [thought 2] Can you think of two other data sets scenarios where t-test would apply ? \n",
    "\n",
    "scipy.stats.ttest_ind(t_data_alb, t_data_us)\n",
    "\n",
    "# 7. write down what does the p-value that you have recieved mean\n",
    "\n",
    "# 8. push your stuff to github"
   ]
  }
 ],
 "metadata": {
  "kernelspec": {
   "display_name": "Python 3",
   "language": "python",
   "name": "python3"
  },
  "language_info": {
   "codemirror_mode": {
    "name": "ipython",
    "version": 2
   },
   "file_extension": ".py",
   "mimetype": "text/x-python",
   "name": "python",
   "nbconvert_exporter": "python",
   "pygments_lexer": "ipython2",
   "version": "2.7.16"
  }
 },
 "nbformat": 4,
 "nbformat_minor": 2
}
