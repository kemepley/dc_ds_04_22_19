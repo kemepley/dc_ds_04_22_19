{
 "cells": [
  {
   "cell_type": "markdown",
   "metadata": {},
   "source": [
    "### Import packages\n",
    "`import numpy as np`\n",
    "\n",
    "`from __future__ import division`\n",
    "\n",
    "### 1. bootstrapping !!\n",
    "##### Let's say we have a pandas dictionary (our sink) and inside we have one urn (with red and white balls). The urn has 40 red balls 60 white \n",
    "\n",
    "##### What's the probability to pick a red ball with replacement 3 times in a row ? \n",
    "\n",
    "- Can you answer this question theoretically? \n",
    "\n",
    "\n",
    "##### lets create a simulation running 1000/10000/100000 iterations and count how many times we got three reds in a row.\n",
    "\n",
    "`sink : {'urn': {'red': 40, 'white':60}}`\n",
    "\n",
    "`use np.random.rand`\n",
    "\n",
    "\n",
    "### 2. push to github (are you close to the theortical distribution ??? If not check again!)\n",
    "\n",
    "\n",
    "### [optional] 3. How will you create the same simulation without replacement ? "
   ]
  },
  {
   "cell_type": "code",
   "execution_count": 3,
   "metadata": {},
   "outputs": [],
   "source": [
    "from __future__ import division\n",
    "import numpy as np\n"
   ]
  },
  {
   "cell_type": "code",
   "execution_count": 6,
   "metadata": {},
   "outputs": [
    {
     "data": {
      "text/plain": [
       "0.06400000000000002"
      ]
     },
     "execution_count": 6,
     "metadata": {},
     "output_type": "execute_result"
    }
   ],
   "source": [
    "pr_red = 4/10\n",
    "pre_white = 6/10\n",
    "\n",
    "# probability of three reds in a row with replacement\n",
    "pr_red*pr_red*pr_red"
   ]
  },
  {
   "cell_type": "code",
   "execution_count": 21,
   "metadata": {},
   "outputs": [
    {
     "data": {
      "text/plain": [
       "'red'"
      ]
     },
     "execution_count": 21,
     "metadata": {},
     "output_type": "execute_result"
    }
   ],
   "source": [
    "sink = {'urn': np.array(['red', 'white']), 'probs': np.array([.4, .6])}\n",
    "\n",
    "np.random.choice(sink['urn'], p=sink['probs'])\n"
   ]
  },
  {
   "cell_type": "code",
   "execution_count": 35,
   "metadata": {},
   "outputs": [
    {
     "name": "stdout",
     "output_type": "stream",
     "text": [
      "3 reds in a row occurred  65 times. That's  0.065 %\n"
     ]
    }
   ],
   "source": [
    "draw = np.array([np.random.choice(sink['urn'], p=sink['probs']) for i in range(1000)])\n",
    "successes = []\n",
    "for i in range(1000):\n",
    "    if draw[i] == 'red' and draw[i+1] == 'red' and draw[i+2]=='red':\n",
    "        successes.append(True)\n",
    "    else:\n",
    "        successes.append(False)\n",
    "num_successes = sum(successes)\n",
    "perc_successes = num_successes/1000\n",
    "\n",
    "print(\"3 reds in a row occurred \", num_successes, \"times. That's \", perc_successes, '%')"
   ]
  },
  {
   "cell_type": "code",
   "execution_count": null,
   "metadata": {},
   "outputs": [],
   "source": [
    "#For a simulation without replacement, the probability of drawing a color would need to decrease with each draw of the color."
   ]
  }
 ],
 "metadata": {
  "kernelspec": {
   "display_name": "Python 3",
   "language": "python",
   "name": "python3"
  },
  "language_info": {
   "codemirror_mode": {
    "name": "ipython",
    "version": 3
   },
   "file_extension": ".py",
   "mimetype": "text/x-python",
   "name": "python",
   "nbconvert_exporter": "python",
   "pygments_lexer": "ipython3",
   "version": "3.7.3"
  }
 },
 "nbformat": 4,
 "nbformat_minor": 2
}
