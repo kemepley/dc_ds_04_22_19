{
 "cells": [
  {
   "cell_type": "markdown",
   "metadata": {},
   "source": [
    "# Dictionaries check in"
   ]
  },
  {
   "cell_type": "markdown",
   "metadata": {},
   "source": [
    "### Import packages"
   ]
  },
  {
   "cell_type": "code",
   "execution_count": 1,
   "metadata": {},
   "outputs": [],
   "source": [
    "import requests"
   ]
  },
  {
   "cell_type": "markdown",
   "metadata": {},
   "source": [
    "### API call - we will use google books to query for a Harry Potter book "
   ]
  },
  {
   "cell_type": "code",
   "execution_count": 77,
   "metadata": {},
   "outputs": [],
   "source": [
    "response = requests.get('https://www.googleapis.com/books/v1/volumes?q=isbn:0747532699')"
   ]
  },
  {
   "cell_type": "code",
   "execution_count": 78,
   "metadata": {},
   "outputs": [],
   "source": [
    "harry_dict = response.json()"
   ]
  },
  {
   "cell_type": "markdown",
   "metadata": {},
   "source": [
    "### Questions:"
   ]
  },
  {
   "cell_type": "markdown",
   "metadata": {},
   "source": [
    "1. Add yourself to the authors list"
   ]
  },
  {
   "cell_type": "code",
   "execution_count": 53,
   "metadata": {},
   "outputs": [
    {
     "data": {
      "text/plain": [
       "['J. K. Rowling', 'K. Epley']"
      ]
     },
     "execution_count": 53,
     "metadata": {},
     "output_type": "execute_result"
    }
   ],
   "source": [
    "# harry_dict['items'][0]['volumeInfo']['authors'] = ['J.K. Rowling', 'K. Epley']\n",
    "harry_dict['items'][0]['volumeInfo']['authors'].append('K. Epley')\n",
    "harry_dict['items'][0]['volumeInfo']['authors']"
   ]
  },
  {
   "cell_type": "markdown",
   "metadata": {},
   "source": [
    "2. Access the description key and replace all mentions of the name Harry Potter with Barry Manilow"
   ]
  },
  {
   "cell_type": "code",
   "execution_count": 55,
   "metadata": {},
   "outputs": [
    {
     "data": {
      "text/plain": [
       "\"Barry Manilow is an ordinary boy who lives in a cupboard under the stairs at his Aunt Petunia and Uncle Vernon's house, which he thinks is normal for someone like him who's parents have been killed in a 'car crash'. He is bullied by them and his fat, spoilt cousin Dudley, and lives a very unremarkable life with only the odd hiccup (like his hair growing back overnight!) to cause him much to think about. That is until an owl turns up with a letter addressed to Barry and all hell breaks loose! He is literally rescued by a world where nothing is as it seems and magic lessons are the order of the day. Read and find out how Barry discovers his true heritage at Hogwarts School of Wizardry and Witchcraft, the reason behind his parents mysterious death, who is out to kill him, and how he uncovers the most amazing secret of all time, the fabled Philosopher's Stone! All this and muggles too. Now, what are they?\""
      ]
     },
     "execution_count": 55,
     "metadata": {},
     "output_type": "execute_result"
    }
   ],
   "source": [
    "harry_dict['items'][0]['volumeInfo']['description'] = harry_dict['items'][0]['volumeInfo']['description'].replace(\"Harry Potter\", \"Barry Manilow\")\n",
    "harry_dict['items'][0]['volumeInfo']['description'] = harry_dict['items'][0]['volumeInfo']['description'].replace(\"Harry\", \"Barry\")\n",
    "harry_dict['items'][0]['volumeInfo']['description']"
   ]
  },
  {
   "cell_type": "markdown",
   "metadata": {},
   "source": [
    "3. Print the industryIdentifiers in the following way:\n",
    "\n",
    "```\n",
    "     \"The type is ISBN 10 with crazy identifier: 0747532699. The second type is ISBN 13 with even longer identifier: 9780747532699\" \n",
    "   ```\n",
    "   \n",
    "Do this by indexing into the dictionary, don't just copy and paste the number"
   ]
  },
  {
   "cell_type": "code",
   "execution_count": 61,
   "metadata": {},
   "outputs": [
    {
     "name": "stdout",
     "output_type": "stream",
     "text": [
      "The type is ISBN_10 with crazy identifier: 0747532699. The second type is ISBN_13 with even longer identifier: 9780747532699\n"
     ]
    }
   ],
   "source": [
    "type1 = list(harry_dict['items'][0]['volumeInfo']['industryIdentifiers'][0].values())[0]\n",
    "isbn10 = list(harry_dict['items'][0]['volumeInfo']['industryIdentifiers'][0].values())[1]\n",
    "type2 = list(harry_dict['items'][0]['volumeInfo']['industryIdentifiers'][1].values())[0]\n",
    "isbn13 = list(harry_dict['items'][0]['volumeInfo']['industryIdentifiers'][1].values())[1]\n",
    "\n",
    "print(\"The type is {0} with crazy identifier: {1}. The second type is {2} with even longer identifier: {3}\".format(type1, isbn10, type2, isbn13)) "
   ]
  },
  {
   "cell_type": "markdown",
   "metadata": {},
   "source": [
    "4. Wrap it all in a function that can do the same steps (1-3) to any book with a similar Json file. \n",
    "\n",
    "Use the following parameters: dictionary, name_of_author (your name), name_to_replace (e.g. Harry Potter), replacement_name (e.g Barry Manilow)\n",
    "\n",
    "Return the dictionary with the added author name and with Harry Potter replaced. You only need to print out the ISBN numbers the same way as before (don't worry about returning them)"
   ]
  },
  {
   "cell_type": "code",
   "execution_count": 81,
   "metadata": {},
   "outputs": [],
   "source": [
    "def rewrite_book_info(dictionary, name_of_author, name_to_replace, replacement_name):\n",
    "    \n",
    "    dictionary['items'][0]['volumeInfo']['authors'].append(name_of_author)\n",
    "    print(dictionary['items'][0]['volumeInfo']['authors'])\n",
    "    \n",
    "    dictionary['items'][0]['volumeInfo']['description'] = dictionary['items'][0]['volumeInfo']['description'].replace(name_to_replace, replacement_name)\n",
    "    print(dictionary['items'][0]['volumeInfo']['description'])\n",
    "        \n",
    "    type1 = list(dictionary['items'][0]['volumeInfo']['industryIdentifiers'][0].values())[0]\n",
    "    isbn10 = list(dictionary['items'][0]['volumeInfo']['industryIdentifiers'][0].values())[1]\n",
    "    type2 = list(dictionary['items'][0]['volumeInfo']['industryIdentifiers'][1].values())[0]\n",
    "    isbn13 = list(dictionary['items'][0]['volumeInfo']['industryIdentifiers'][1].values())[1]\n",
    "    print(\"The type is {0} with crazy identifier: {1}. The second type is {2} with even longer identifier: {3}\".format(type1, isbn10, type2, isbn13)) "
   ]
  },
  {
   "cell_type": "code",
   "execution_count": 82,
   "metadata": {},
   "outputs": [
    {
     "name": "stdout",
     "output_type": "stream",
     "text": [
      "['J. K. Rowling', 'K. Epley']\n",
      "Barry Manilow is an ordinary boy who lives in a cupboard under the stairs at his Aunt Petunia and Uncle Vernon's house, which he thinks is normal for someone like him who's parents have been killed in a 'car crash'. He is bullied by them and his fat, spoilt cousin Dudley, and lives a very unremarkable life with only the odd hiccup (like his hair growing back overnight!) to cause him much to think about. That is until an owl turns up with a letter addressed to Harry and all hell breaks loose! He is literally rescued by a world where nothing is as it seems and magic lessons are the order of the day. Read and find out how Harry discovers his true heritage at Hogwarts School of Wizardry and Witchcraft, the reason behind his parents mysterious death, who is out to kill him, and how he uncovers the most amazing secret of all time, the fabled Philosopher's Stone! All this and muggles too. Now, what are they?\n",
      "The type is ISBN_10 with crazy identifier: 0747532699. The second type is ISBN_13 with even longer identifier: 9780747532699\n"
     ]
    }
   ],
   "source": [
    "rewrite_book_info(harry_dict, 'K. Epley', 'Harry Potter', 'Barry Manilow')"
   ]
  },
  {
   "cell_type": "markdown",
   "metadata": {},
   "source": [
    "[Stretch]\n",
    "5. Create a data frame with the following columns: author, id, publisher, title.\n",
    "Insert to the data frame multiple rows (one for each author). \n",
    "\n",
    "You are supposed to have multiple rows since you added yourself as an author. Insert to the other columns the appropriate data from the harry_dict dictionary."
   ]
  },
  {
   "cell_type": "code",
   "execution_count": 83,
   "metadata": {},
   "outputs": [],
   "source": [
    "import pandas as pd\n",
    "\n",
    "my_dict = {}\n",
    "my_dict['author'] = harry_dict['items'][0]['volumeInfo']['authors']\n",
    "my_dict['id'] = harry_dict['items'][0]['id']\n",
    "my_dict['publisher'] = harry_dict['items'][0]['volumeInfo']['publisher']\n",
    "my_dict['title'] = harry_dict['items'][0]['volumeInfo']['title']\n",
    "\n",
    "df = pd.DataFrame(my_dict)\n"
   ]
  },
  {
   "cell_type": "code",
   "execution_count": 84,
   "metadata": {},
   "outputs": [
    {
     "data": {
      "text/html": [
       "<div>\n",
       "<style scoped>\n",
       "    .dataframe tbody tr th:only-of-type {\n",
       "        vertical-align: middle;\n",
       "    }\n",
       "\n",
       "    .dataframe tbody tr th {\n",
       "        vertical-align: top;\n",
       "    }\n",
       "\n",
       "    .dataframe thead th {\n",
       "        text-align: right;\n",
       "    }\n",
       "</style>\n",
       "<table border=\"1\" class=\"dataframe\">\n",
       "  <thead>\n",
       "    <tr style=\"text-align: right;\">\n",
       "      <th></th>\n",
       "      <th>author</th>\n",
       "      <th>id</th>\n",
       "      <th>publisher</th>\n",
       "      <th>title</th>\n",
       "    </tr>\n",
       "  </thead>\n",
       "  <tbody>\n",
       "    <tr>\n",
       "      <th>0</th>\n",
       "      <td>J. K. Rowling</td>\n",
       "      <td>yZ1APgAACAAJ</td>\n",
       "      <td>Bloomsbury Pub Limited</td>\n",
       "      <td>Harry Potter 1 and the Philosopher's Stone</td>\n",
       "    </tr>\n",
       "    <tr>\n",
       "      <th>1</th>\n",
       "      <td>K. Epley</td>\n",
       "      <td>yZ1APgAACAAJ</td>\n",
       "      <td>Bloomsbury Pub Limited</td>\n",
       "      <td>Harry Potter 1 and the Philosopher's Stone</td>\n",
       "    </tr>\n",
       "  </tbody>\n",
       "</table>\n",
       "</div>"
      ],
      "text/plain": [
       "          author            id               publisher  \\\n",
       "0  J. K. Rowling  yZ1APgAACAAJ  Bloomsbury Pub Limited   \n",
       "1       K. Epley  yZ1APgAACAAJ  Bloomsbury Pub Limited   \n",
       "\n",
       "                                        title  \n",
       "0  Harry Potter 1 and the Philosopher's Stone  \n",
       "1  Harry Potter 1 and the Philosopher's Stone  "
      ]
     },
     "execution_count": 84,
     "metadata": {},
     "output_type": "execute_result"
    }
   ],
   "source": [
    "df"
   ]
  },
  {
   "cell_type": "code",
   "execution_count": null,
   "metadata": {},
   "outputs": [],
   "source": []
  }
 ],
 "metadata": {
  "kernelspec": {
   "display_name": "Python 3",
   "language": "python",
   "name": "python3"
  },
  "language_info": {
   "codemirror_mode": {
    "name": "ipython",
    "version": 3
   },
   "file_extension": ".py",
   "mimetype": "text/x-python",
   "name": "python",
   "nbconvert_exporter": "python",
   "pygments_lexer": "ipython3",
   "version": "3.7.3"
  }
 },
 "nbformat": 4,
 "nbformat_minor": 2
}
