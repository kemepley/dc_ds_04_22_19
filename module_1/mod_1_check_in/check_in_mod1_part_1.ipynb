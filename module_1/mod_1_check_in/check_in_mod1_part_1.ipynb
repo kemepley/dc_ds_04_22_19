{
 "cells": [
  {
   "cell_type": "markdown",
   "metadata": {},
   "source": [
    "### Loops & Dictionaries "
   ]
  },
  {
   "cell_type": "markdown",
   "metadata": {},
   "source": [
    "You are going to create a nested dictionary of recipes, with keys at the top level and dictionaries as their associated values. \n",
    "\n",
    "1. First, create an empty dictionary.\n",
    "2. Add three dishes as the top keys of your dictionary (e.g. 'meat pie')\n",
    "3. For each key, add its paired value. The value should be another dictionary consisting of ingredient : amount pairs. (eg 'sugar': 'two cups') Each dish should have three ingredients.\n",
    "4. Write a function to process the recipe dictionary. This function should loop through the recipes and return a *list* of ingredients for each recipe."
   ]
  },
  {
   "cell_type": "markdown",
   "metadata": {},
   "source": [
    "### Coding readibility "
   ]
  },
  {
   "cell_type": "markdown",
   "metadata": {},
   "source": [
    "1. Rewrite the code below in a 'best practice way' (indentation/function names..)"
   ]
  },
  {
   "cell_type": "code",
   "execution_count": 1,
   "metadata": {
    "collapsed": true
   },
   "outputs": [
    {
     "ename": "IndentationError",
     "evalue": "expected an indented block (<ipython-input-1-190831c477dd>, line 2)",
     "output_type": "error",
     "traceback": [
      "\u001b[0;36m  File \u001b[0;32m\"<ipython-input-1-190831c477dd>\"\u001b[0;36m, line \u001b[0;32m2\u001b[0m\n\u001b[0;31m    for i in range(10):for j in range(10):for k in range(10): print(i,j,k) return everything\u001b[0m\n\u001b[0m      ^\u001b[0m\n\u001b[0;31mIndentationError\u001b[0m\u001b[0;31m:\u001b[0m expected an indented block\n"
     ]
    }
   ],
   "source": [
    "def blabla():\n",
    "for i in range(10):for j in range(10):for k in range(10): print(i,j,k) return everything"
   ]
  },
  {
   "cell_type": "code",
   "execution_count": 14,
   "metadata": {},
   "outputs": [],
   "source": [
    "## Add comments here"
   ]
  },
  {
   "cell_type": "markdown",
   "metadata": {},
   "source": [
    "### Data cleaning "
   ]
  },
  {
   "cell_type": "markdown",
   "metadata": {},
   "source": [
    "1. read data from https://www.kaggle.com/jsphyg/weather-dataset-rattle-package \n",
    "2. Add a month column and a year column\n",
    "3. print out the name of the columns where there are missing values \n",
    "4. Write a function called 'if_no_rainToday_zero_rainfall' to fill in some of the missing values in the 'Rainfall' column according to the 'RainToday' column (e.g. RainToday is showing 0 and Rainfall is missing then impute with Rainfall 0)\n",
    "5. fill in the other float columns with their median\n",
    "6. Create a dummy variable from month column"
   ]
  },
  {
   "cell_type": "markdown",
   "metadata": {},
   "source": [
    "# Done"
   ]
  }
 ],
 "metadata": {
  "kernelspec": {
   "display_name": "Python 3",
   "language": "python",
   "name": "python3"
  },
  "language_info": {
   "codemirror_mode": {
    "name": "ipython",
    "version": 3
   },
   "file_extension": ".py",
   "mimetype": "text/x-python",
   "name": "python",
   "nbconvert_exporter": "python",
   "pygments_lexer": "ipython3",
   "version": "3.7.3"
  }
 },
 "nbformat": 4,
 "nbformat_minor": 2
}
