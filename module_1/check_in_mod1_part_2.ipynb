{
 "cells": [
  {
   "cell_type": "markdown",
   "metadata": {},
   "source": [
    "### Plotting "
   ]
  },
  {
   "cell_type": "markdown",
   "metadata": {},
   "source": [
    "1. Use numpy random normal to create 100 points for an X variable \n",
    "2. Use numpy random normal to create 100 points for a Y Variable\n",
    "2. Plot it as a scatter plot and as a histogram \n",
    "3. Place the plots side by side \n",
    "4. change the figure size to 12x15"
   ]
  },
  {
   "cell_type": "markdown",
   "metadata": {},
   "source": [
    "### Linear regression "
   ]
  },
  {
   "cell_type": "markdown",
   "metadata": {},
   "source": [
    "1. What are the assumptions of linear regression? \n",
    "2. Explain the reasoning for each assumption\n",
    "3. Explain the concept of correlation. What is the covariance? Why don't we use covariance? \n",
    "4. Should we use the correlation to decide on variables to delete from our model?\n",
    "5. What is R squared? How can it help us in comparing among models? \n",
    "What is the R squared of the baseline model?\n",
    "6. Explain cross-validation. Why do we use it?   \n",
    "[stretch] Create a function that does cross validation? (use sklearn, numpy etc.)\n",
    "7. How can we evaluate our model besides R squared? and why would we want to? (hint: loss function)\n",
    "8. Using the X, Y variables created in the plotting section use the various packages \n",
    "to run a linear regression model\n",
    "9. Write down the equation of the resulting model"
   ]
  },
  {
   "cell_type": "markdown",
   "metadata": {},
   "source": [
    "# Done"
   ]
  }
 ],
 "metadata": {
  "kernelspec": {
   "display_name": "Python 3",
   "language": "python",
   "name": "python3"
  },
  "language_info": {
   "codemirror_mode": {
    "name": "ipython",
    "version": 3
   },
   "file_extension": ".py",
   "mimetype": "text/x-python",
   "name": "python",
   "nbconvert_exporter": "python",
   "pygments_lexer": "ipython3",
   "version": "3.7.3"
  }
 },
 "nbformat": 4,
 "nbformat_minor": 2
}
