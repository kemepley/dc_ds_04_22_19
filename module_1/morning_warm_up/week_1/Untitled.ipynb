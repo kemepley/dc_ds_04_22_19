{
 "cells": [
  {
   "cell_type": "code",
   "execution_count": 50,
   "metadata": {},
   "outputs": [],
   "source": [
    "mydict = {'Kelly': [32, 'Epley'], 'Adam': [35, 'Morris'], 'Katie': [36, 'Ridilla'], 'Stacey': [32, \"Perryman\"], 'Sheila': [37, \"Perryman\"]}"
   ]
  },
  {
   "cell_type": "code",
   "execution_count": 51,
   "metadata": {},
   "outputs": [],
   "source": [
    "del mydict['Kelly']"
   ]
  },
  {
   "cell_type": "code",
   "execution_count": 52,
   "metadata": {},
   "outputs": [
    {
     "data": {
      "text/plain": [
       "{'Adam': [35, 'Morris'],\n",
       " 'Katie': [36, 'Ridilla'],\n",
       " 'Stacey': [32, 'Perryman'],\n",
       " 'Sheila': [37, 'Perryman']}"
      ]
     },
     "execution_count": 52,
     "metadata": {},
     "output_type": "execute_result"
    }
   ],
   "source": [
    "mydict"
   ]
  },
  {
   "cell_type": "code",
   "execution_count": 53,
   "metadata": {},
   "outputs": [
    {
     "data": {
      "text/plain": [
       "[34, 'Morris']"
      ]
     },
     "execution_count": 53,
     "metadata": {},
     "output_type": "execute_result"
    }
   ],
   "source": [
    "mydict['Adam'][0] = 34\n",
    "mydict['Adam']"
   ]
  },
  {
   "cell_type": "code",
   "execution_count": 54,
   "metadata": {},
   "outputs": [
    {
     "data": {
      "text/plain": [
       "[34, 36, 32, 37]"
      ]
     },
     "execution_count": 54,
     "metadata": {},
     "output_type": "execute_result"
    }
   ],
   "source": [
    "ages = []\n",
    "\n",
    "for p in mydict:\n",
    "    ages.append(mydict[p][0])\n",
    "\n",
    "ages"
   ]
  },
  {
   "cell_type": "code",
   "execution_count": 55,
   "metadata": {},
   "outputs": [
    {
     "data": {
      "text/plain": [
       "34.75"
      ]
     },
     "execution_count": 55,
     "metadata": {},
     "output_type": "execute_result"
    }
   ],
   "source": [
    "total = 0\n",
    "for age in ages:\n",
    "    total += age\n",
    "agemean = total/len(ages)\n",
    "agemean"
   ]
  },
  {
   "cell_type": "code",
   "execution_count": 61,
   "metadata": {},
   "outputs": [
    {
     "name": "stdout",
     "output_type": "stream",
     "text": [
      "35.0\n",
      "35.0\n",
      "35.0\n",
      "35.0\n"
     ]
    }
   ],
   "source": [
    "srtages = sorted(ages)\n",
    "\n",
    "for a in srtages:\n",
    "    if len(srtages) % 2 != 0:\n",
    "        idx = int(len(srtages)/2 + 0.5) -1\n",
    "        print(srtages[idx])\n",
    "    else:\n",
    "        idx2 = int(len(srtages)/2) - 1\n",
    "        idx3 = int(len(srtages)/2 + 1) -1\n",
    "        print((srtages[idx2] + srtages[idx3])/2)"
   ]
  },
  {
   "cell_type": "code",
   "execution_count": null,
   "metadata": {},
   "outputs": [],
   "source": []
  }
 ],
 "metadata": {
  "kernelspec": {
   "display_name": "Python 3",
   "language": "python",
   "name": "python3"
  },
  "language_info": {
   "codemirror_mode": {
    "name": "ipython",
    "version": 3
   },
   "file_extension": ".py",
   "mimetype": "text/x-python",
   "name": "python",
   "nbconvert_exporter": "python",
   "pygments_lexer": "ipython3",
   "version": "3.7.3"
  }
 },
 "nbformat": 4,
 "nbformat_minor": 2
}
