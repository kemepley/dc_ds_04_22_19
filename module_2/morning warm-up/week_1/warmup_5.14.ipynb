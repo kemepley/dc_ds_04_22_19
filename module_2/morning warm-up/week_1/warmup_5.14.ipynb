{
 "cells": [
  {
   "cell_type": "markdown",
   "metadata": {},
   "source": [
    "### import \n",
    "``` \n",
    "\timport statsmodels\n",
    "\timport numpy as np\n",
    "\timport matplotlib.pylab as plt\n",
    "```\n",
    "\n",
    "### 1. create a matrix (numpy array) of ones sized (100 X 50) \n",
    "\n",
    "`use .shape to check your matrix`\n",
    "\n",
    "### 2. create a matrix of zeros the same size as the matrix from (1)\n",
    "`use numpy`\n",
    "\n",
    "### 3. create a new matrix that will be the concatenation of (1 & 2) --> matrix sized (200, 50)\n",
    "\n",
    "### 4. Add the two matrices (from 1 & 2) to get one matrix (100 X 50) --> check yourself (do all enteries show 1?)\n",
    "\n",
    "### 5. Use the function we have created few warm-ups ago to create two matrices 20X40 from multivariate normal distribution\n",
    "\n",
    "### 6. let's try to make two operations: \n",
    "    # - matrix multiplication (first test it on a 2X2 matrices)\n",
    "    # - element wise multiplication \n",
    "### 7. let's create again the linear equations Y = XW + noise\n",
    "##### Noise should come from univariate normal distribution with mean 0 and variance 0.1 \n",
    "\n",
    "\n",
    "### 8. Can you calculate the weight (coeficients) matrix? Do it.\n",
    "### Write down the equation of the multiple regression model\n",
    "\n",
    "\n",
    "### 9. Create a function that calculates the mean squared error \n",
    "\n",
    "### 10. Plot the errors to check for normality\n",
    "\n",
    "### 11. Plot scatter plots of the independent variables against the target value to check for violations of the constant variance assumption for errors \n",
    "\n",
    "### 12. Calculate R squared (you can use statsmodels)"
   ]
  },
  {
   "cell_type": "code",
   "execution_count": 1,
   "metadata": {},
   "outputs": [],
   "source": [
    "import statsmodels\n",
    "import numpy as np\n",
    "import matplotlib.pylab as plt"
   ]
  },
  {
   "cell_type": "code",
   "execution_count": 6,
   "metadata": {},
   "outputs": [
    {
     "data": {
      "text/plain": [
       "(100, 50)"
      ]
     },
     "execution_count": 6,
     "metadata": {},
     "output_type": "execute_result"
    }
   ],
   "source": [
    "ones = np.ones((100,50))\n",
    "ones.shape"
   ]
  },
  {
   "cell_type": "code",
   "execution_count": 10,
   "metadata": {},
   "outputs": [
    {
     "data": {
      "text/plain": [
       "(100, 50)"
      ]
     },
     "execution_count": 10,
     "metadata": {},
     "output_type": "execute_result"
    }
   ],
   "source": [
    "zeros = np.zeros((100,50))\n",
    "zer.shape"
   ]
  },
  {
   "cell_type": "code",
   "execution_count": 12,
   "metadata": {},
   "outputs": [
    {
     "data": {
      "text/plain": [
       "(200, 50)"
      ]
     },
     "execution_count": 12,
     "metadata": {},
     "output_type": "execute_result"
    }
   ],
   "source": [
    "onesandzeros = np.concatenate((ones, zer), axis=0)\n",
    "onesandzeros.shape"
   ]
  },
  {
   "cell_type": "code",
   "execution_count": 15,
   "metadata": {},
   "outputs": [
    {
     "data": {
      "text/plain": [
       "(100, 50)"
      ]
     },
     "execution_count": 15,
     "metadata": {},
     "output_type": "execute_result"
    }
   ],
   "source": [
    "addmatrices = ones + zer\n",
    "addmatrices.shape"
   ]
  },
  {
   "cell_type": "code",
   "execution_count": 29,
   "metadata": {},
   "outputs": [],
   "source": [
    "nums = np.random.rand(50)\n",
    "numsmean = nums.mean()\n",
    "# cov = np.cov(nums)\n",
    "# np.random.multivariate_normal(numsmean, cov)\n"
   ]
  },
  {
   "cell_type": "code",
   "execution_count": 35,
   "metadata": {},
   "outputs": [
    {
     "data": {
      "text/plain": [
       "(800,)"
      ]
     },
     "execution_count": 35,
     "metadata": {},
     "output_type": "execute_result"
    }
   ],
   "source": [
    "array1 = np.random.normal(numsmean, 10, 800)\n",
    "array1.reshape(20,40)\n",
    "array1.shape"
   ]
  },
  {
   "cell_type": "code",
   "execution_count": null,
   "metadata": {},
   "outputs": [],
   "source": []
  }
 ],
 "metadata": {
  "kernelspec": {
   "display_name": "Python 3",
   "language": "python",
   "name": "python3"
  },
  "language_info": {
   "codemirror_mode": {
    "name": "ipython",
    "version": 3
   },
   "file_extension": ".py",
   "mimetype": "text/x-python",
   "name": "python",
   "nbconvert_exporter": "python",
   "pygments_lexer": "ipython3",
   "version": "3.6.6"
  }
 },
 "nbformat": 4,
 "nbformat_minor": 2
}
