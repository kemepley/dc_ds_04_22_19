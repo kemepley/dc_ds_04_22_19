{
 "cells": [
  {
   "cell_type": "markdown",
   "metadata": {},
   "source": [
    "# SQL Joins\n",
    "\n",
    "### Import packages \n",
    "sqlite3\n",
    "pandas\n",
    "   \n",
    "### Connect to databases cats.db, dogs.db and owners.db using sqlite3 (use for example conn = sqlite3.connect('cats.db') and then c = conn.cursor())\n",
    "\n",
    "Let's try and work through some exercises to recap and retain the foundational knowledge of the language that our beloved databases use.\n",
    "\n",
    "In the suburbs of Capitol Hill, there is a new pet daycare starting up that distributes pets among 4 houses.\n",
    "Down below we have tables representing cats and dogs in the particular houses, and corresponding owners. \n",
    "\n",
    "Cats Table:\n",
    "\n",
    "Name  \t\t\t | Breed \t\t\t| House_Number| Owner_ID|       \n",
    "------------- | ------------- | ------------|---------\n",
    "Bell  \t\t\t| Siamese\t\t\t|\t\t1\t    | 4\n",
    "Jackson  \t\t| Balinese \t\t|       2     |3\n",
    "Precious  \t| Himalayan  \t\t|         3    | 4\n",
    "Rocky\t\t\t| Egyptian Mau \t| 4 \t\t    | 2\n",
    "Samson\t\t\t| Javanese\t\t|\t4\t\t| 1\n",
    "\n",
    "Dogs Table:\n",
    "\n",
    "Name  \t\t\t | Breed \t| House_Number\t|Owner_ID|\n",
    "-------------| ------------- | ------------|-----   \n",
    "Rex  \t\t\t| Chihuahua  \t\t|\t\t1\t    |3\n",
    "Clifford  \t| German Shepherd|     2        |2\n",
    "Lucky  \t\t| Daschund  \t\t|     3        |1\n",
    "Bobo\t\t\t| Shih-Tzu\t\t|    2\t\t   | 4\n",
    "Buddy\t\t\t| Golden Retriever | 4\t\t   | 2\n",
    "Leo\t\t\t\t| English Bulldog | 1 | 2\n",
    "\n",
    "Owners Table:\n",
    "\n",
    "Name  \t\t| Phone\t| Address\t|ID| \n",
    "-------------| ------------- | ------------|-----\n",
    "Josh Daniell  | 313-287-9573  |1440 G St. |1\n",
    "Alison Peebles Madigan| 214-709-8190| None |2\n",
    "Avi Flombaum\t| 469-878-0125  |  1776 New York Ave| 3\n",
    "Justin Bieber | 410-381-0987 | None | 4\n",
    "\n",
    "\n",
    "Write the appropriate SQL queries to satisfy the following prompts:\n",
    "\n",
    "A. Write a SQL query that can grab the names of all pets owned by the founder of Flatiron School, Avi Flombaum\n",
    "\n",
    "B. Which House_Number contains the most number of pets in it and how many?\n",
    "\n",
    "C. The daycare realized that House 4 needs the owners of its pets to update their addresses. Grab the names and phone numbers of owners with pets in house 4 that do not currently have an address.\n",
    "\n",
    "\n"
   ]
  },
  {
   "cell_type": "code",
   "execution_count": 2,
   "metadata": {},
   "outputs": [],
   "source": [
    "import pandas as pd\n",
    "import sqlite3"
   ]
  },
  {
   "cell_type": "code",
   "execution_count": 5,
   "metadata": {},
   "outputs": [],
   "source": [
    "conn1 = sqlite3.connect('cats.db')\n",
    "c1 = conn1.cursor()"
   ]
  },
  {
   "cell_type": "code",
   "execution_count": 6,
   "metadata": {},
   "outputs": [],
   "source": [
    "conn2 = sqlite3.connect('dogs.db')\n",
    "c2 = conn2.cursor()"
   ]
  },
  {
   "cell_type": "code",
   "execution_count": 7,
   "metadata": {},
   "outputs": [],
   "source": [
    "conn3 = sqlite3.connect('owners.db')\n",
    "c3 = conn3.cursor()"
   ]
  },
  {
   "cell_type": "code",
   "execution_count": 8,
   "metadata": {},
   "outputs": [
    {
     "data": {
      "text/plain": [
       "[('Josh Daniell', '3132879573', '1440 G st.', '1'),\n",
       " ('Alison Peebles Madigan', '2147098190', 'None', '2'),\n",
       " ('Avi Flombaum', '4698780125', '1776 New York Ave', '3'),\n",
       " ('Justin Bieber', '4103810987', 'None', '4')]"
      ]
     },
     "execution_count": 8,
     "metadata": {},
     "output_type": "execute_result"
    }
   ],
   "source": [
    "c3.execute('''SELECT * FROM owners''').fetchall()"
   ]
  },
  {
   "cell_type": "code",
   "execution_count": 9,
   "metadata": {},
   "outputs": [
    {
     "ename": "SyntaxError",
     "evalue": "EOL while scanning string literal (<ipython-input-9-73d9bfc32c08>, line 1)",
     "output_type": "error",
     "traceback": [
      "\u001b[0;36m  File \u001b[0;32m\"<ipython-input-9-73d9bfc32c08>\"\u001b[0;36m, line \u001b[0;32m1\u001b[0m\n\u001b[0;31m    c1.execute('''SELECT cats.name, dogs.name FROM cats JOIN dogs USING(Owner_ID) JOIN owners ON owners.ID = dogs.Owner_ID WHERE owners.ID = 'Avi Flombaum'''').fetchall()\u001b[0m\n\u001b[0m                                                                                                                                                                          ^\u001b[0m\n\u001b[0;31mSyntaxError\u001b[0m\u001b[0;31m:\u001b[0m EOL while scanning string literal\n"
     ]
    }
   ],
   "source": [
    "c1.execute('''SELECT cats.name, dogs.name FROM cats JOIN dogs USING(Owner_ID) JOIN owners ON owners.ID = dogs.Owner_ID WHERE owners.ID = 'Avi Flombaum'''').fetchall()\n"
   ]
  },
  {
   "cell_type": "code",
   "execution_count": 12,
   "metadata": {},
   "outputs": [
    {
     "ename": "TypeError",
     "evalue": "merge() got an unexpected keyword argument 'axis'",
     "output_type": "error",
     "traceback": [
      "\u001b[0;31m---------------------------------------------------------------------------\u001b[0m",
      "\u001b[0;31mTypeError\u001b[0m                                 Traceback (most recent call last)",
      "\u001b[0;32m<ipython-input-12-39439a3d87a0>\u001b[0m in \u001b[0;36m<module>\u001b[0;34m\u001b[0m\n\u001b[1;32m      6\u001b[0m \u001b[0mdf3\u001b[0m \u001b[0;34m=\u001b[0m \u001b[0mpd\u001b[0m\u001b[0;34m.\u001b[0m\u001b[0mread_sql_query\u001b[0m\u001b[0;34m(\u001b[0m\u001b[0msql3\u001b[0m\u001b[0;34m,\u001b[0m \u001b[0mconn3\u001b[0m\u001b[0;34m)\u001b[0m\u001b[0;34m\u001b[0m\u001b[0;34m\u001b[0m\u001b[0m\n\u001b[1;32m      7\u001b[0m \u001b[0;34m\u001b[0m\u001b[0m\n\u001b[0;32m----> 8\u001b[0;31m \u001b[0mresult\u001b[0m \u001b[0;34m=\u001b[0m \u001b[0mdf1\u001b[0m\u001b[0;34m.\u001b[0m\u001b[0mmerge\u001b[0m\u001b[0;34m(\u001b[0m\u001b[0mdf2\u001b[0m\u001b[0;34m,\u001b[0m \u001b[0mleft_on\u001b[0m\u001b[0;34m=\u001b[0m\u001b[0;34m'Owner_ID'\u001b[0m\u001b[0;34m,\u001b[0m \u001b[0mright_on\u001b[0m\u001b[0;34m=\u001b[0m\u001b[0;34m'Owner_ID'\u001b[0m\u001b[0;34m,\u001b[0m \u001b[0maxis\u001b[0m\u001b[0;34m=\u001b[0m\u001b[0;36m0\u001b[0m\u001b[0;34m)\u001b[0m\u001b[0;34m\u001b[0m\u001b[0;34m\u001b[0m\u001b[0m\n\u001b[0m",
      "\u001b[0;31mTypeError\u001b[0m: merge() got an unexpected keyword argument 'axis'"
     ]
    }
   ],
   "source": [
    "sql = 'SELECT * FROM cats'\n",
    "df1 = pd.read_sql_query(sql, conn1)\n",
    "sql2 = 'SELECT * FROM dogs'\n",
    "df2 = pd.read_sql_query(sql2, conn2)\n",
    "sql3 = 'SELECT * FROM owners'\n",
    "df3 = pd.read_sql_query(sql3, conn3)\n",
    "\n",
    "result = df1.merge(df2, left_on='Owner_ID', right_on='Owner_ID'"
   ]
  },
  {
   "cell_type": "code",
   "execution_count": 11,
   "metadata": {},
   "outputs": [
    {
     "data": {
      "text/html": [
       "<div>\n",
       "<style scoped>\n",
       "    .dataframe tbody tr th:only-of-type {\n",
       "        vertical-align: middle;\n",
       "    }\n",
       "\n",
       "    .dataframe tbody tr th {\n",
       "        vertical-align: top;\n",
       "    }\n",
       "\n",
       "    .dataframe thead th {\n",
       "        text-align: right;\n",
       "    }\n",
       "</style>\n",
       "<table border=\"1\" class=\"dataframe\">\n",
       "  <thead>\n",
       "    <tr style=\"text-align: right;\">\n",
       "      <th></th>\n",
       "      <th>Name_x</th>\n",
       "      <th>Breed_x</th>\n",
       "      <th>House_Number_x</th>\n",
       "      <th>Owner_ID</th>\n",
       "      <th>Name_y</th>\n",
       "      <th>Breed_y</th>\n",
       "      <th>House_Number_y</th>\n",
       "    </tr>\n",
       "  </thead>\n",
       "  <tbody>\n",
       "    <tr>\n",
       "      <th>0</th>\n",
       "      <td>Bell</td>\n",
       "      <td>Siamese</td>\n",
       "      <td>1</td>\n",
       "      <td>4</td>\n",
       "      <td>Bobo</td>\n",
       "      <td>Shih-Tzu</td>\n",
       "      <td>2</td>\n",
       "    </tr>\n",
       "    <tr>\n",
       "      <th>1</th>\n",
       "      <td>Precious</td>\n",
       "      <td>Himalayan</td>\n",
       "      <td>3</td>\n",
       "      <td>4</td>\n",
       "      <td>Bobo</td>\n",
       "      <td>Shih-Tzu</td>\n",
       "      <td>2</td>\n",
       "    </tr>\n",
       "    <tr>\n",
       "      <th>2</th>\n",
       "      <td>Jackson</td>\n",
       "      <td>Balinese</td>\n",
       "      <td>2</td>\n",
       "      <td>3</td>\n",
       "      <td>Rex</td>\n",
       "      <td>Chihuahua</td>\n",
       "      <td>1</td>\n",
       "    </tr>\n",
       "    <tr>\n",
       "      <th>3</th>\n",
       "      <td>Rocky</td>\n",
       "      <td>Egyptian Mau</td>\n",
       "      <td>4</td>\n",
       "      <td>2</td>\n",
       "      <td>Clifford</td>\n",
       "      <td>German Shepherd</td>\n",
       "      <td>2</td>\n",
       "    </tr>\n",
       "    <tr>\n",
       "      <th>4</th>\n",
       "      <td>Rocky</td>\n",
       "      <td>Egyptian Mau</td>\n",
       "      <td>4</td>\n",
       "      <td>2</td>\n",
       "      <td>Buddy</td>\n",
       "      <td>Golden Retriever</td>\n",
       "      <td>4</td>\n",
       "    </tr>\n",
       "    <tr>\n",
       "      <th>5</th>\n",
       "      <td>Rocky</td>\n",
       "      <td>Egyptian Mau</td>\n",
       "      <td>4</td>\n",
       "      <td>2</td>\n",
       "      <td>Leo</td>\n",
       "      <td>English Bulldog</td>\n",
       "      <td>1</td>\n",
       "    </tr>\n",
       "    <tr>\n",
       "      <th>6</th>\n",
       "      <td>Samson</td>\n",
       "      <td>Javanese</td>\n",
       "      <td>5</td>\n",
       "      <td>1</td>\n",
       "      <td>Lucky</td>\n",
       "      <td>Daschund</td>\n",
       "      <td>3</td>\n",
       "    </tr>\n",
       "  </tbody>\n",
       "</table>\n",
       "</div>"
      ],
      "text/plain": [
       "     Name_x       Breed_x House_Number_x Owner_ID    Name_y           Breed_y  \\\n",
       "0      Bell       Siamese              1        4      Bobo          Shih-Tzu   \n",
       "1  Precious     Himalayan              3        4      Bobo          Shih-Tzu   \n",
       "2   Jackson      Balinese              2        3       Rex         Chihuahua   \n",
       "3     Rocky  Egyptian Mau              4        2  Clifford   German Shepherd   \n",
       "4     Rocky  Egyptian Mau              4        2     Buddy  Golden Retriever   \n",
       "5     Rocky  Egyptian Mau              4        2       Leo   English Bulldog   \n",
       "6    Samson      Javanese              5        1     Lucky          Daschund   \n",
       "\n",
       "  House_Number_y  \n",
       "0              2  \n",
       "1              2  \n",
       "2              1  \n",
       "3              2  \n",
       "4              4  \n",
       "5              1  \n",
       "6              3  "
      ]
     },
     "execution_count": 11,
     "metadata": {},
     "output_type": "execute_result"
    }
   ],
   "source": [
    "result"
   ]
  },
  {
   "cell_type": "code",
   "execution_count": 17,
   "metadata": {},
   "outputs": [
    {
     "data": {
      "text/html": [
       "<div>\n",
       "<style scoped>\n",
       "    .dataframe tbody tr th:only-of-type {\n",
       "        vertical-align: middle;\n",
       "    }\n",
       "\n",
       "    .dataframe tbody tr th {\n",
       "        vertical-align: top;\n",
       "    }\n",
       "\n",
       "    .dataframe thead th {\n",
       "        text-align: right;\n",
       "    }\n",
       "</style>\n",
       "<table border=\"1\" class=\"dataframe\">\n",
       "  <thead>\n",
       "    <tr style=\"text-align: right;\">\n",
       "      <th></th>\n",
       "      <th>0</th>\n",
       "      <th>1</th>\n",
       "      <th>2</th>\n",
       "      <th>3</th>\n",
       "      <th>4</th>\n",
       "      <th>5</th>\n",
       "      <th>6</th>\n",
       "      <th>7</th>\n",
       "      <th>8</th>\n",
       "      <th>9</th>\n",
       "      <th>10</th>\n",
       "      <th>11</th>\n",
       "    </tr>\n",
       "  </thead>\n",
       "  <tbody>\n",
       "    <tr>\n",
       "      <th>0</th>\n",
       "      <td>Avi Flombaum</td>\n",
       "      <td>4698780125</td>\n",
       "      <td>1776 New York Ave</td>\n",
       "      <td>3</td>\n",
       "      <td>Jackson</td>\n",
       "      <td>Balinese</td>\n",
       "      <td>2</td>\n",
       "      <td>3</td>\n",
       "      <td>Rex</td>\n",
       "      <td>Chihuahua</td>\n",
       "      <td>1</td>\n",
       "      <td>3</td>\n",
       "    </tr>\n",
       "  </tbody>\n",
       "</table>\n",
       "</div>"
      ],
      "text/plain": [
       "             0           1                  2  3        4         5  6  7   \\\n",
       "0  Avi Flombaum  4698780125  1776 New York Ave  3  Jackson  Balinese  2  3   \n",
       "\n",
       "    8          9  10 11  \n",
       "0  Rex  Chihuahua  1  3  "
      ]
     },
     "execution_count": 17,
     "metadata": {},
     "output_type": "execute_result"
    }
   ],
   "source": [
    "conn = sqlite3.connect('cats.db')\n",
    "c = conn.cursor()\n",
    "c.execute('ATTACH DATABASE \"dogs.db\" AS db_dogs')\n",
    "c.execute('ATTACH DATABASE \"owners.db\" AS db_owners')\n",
    "\n",
    "sql_str = \"\"\"\n",
    "\n",
    "SELECT * from db_owners.owners o\n",
    "LEFT JOIN cats c ON c.Owner_ID = o.ID\n",
    "LEFT JOIN dogs d ON d.Owner_ID = c.Owner_ID\n",
    "WHERE o.Name=\"Avi Flombaum\"\n",
    "\n",
    "\n",
    "\"\"\"\n",
    "\n",
    "\n",
    "df = pd.DataFrame(c.execute(sql_str).fetchall())\n",
    "\n",
    "df"
   ]
  },
  {
   "cell_type": "code",
   "execution_count": 14,
   "metadata": {},
   "outputs": [
    {
     "data": {
      "text/html": [
       "<div>\n",
       "<style scoped>\n",
       "    .dataframe tbody tr th:only-of-type {\n",
       "        vertical-align: middle;\n",
       "    }\n",
       "\n",
       "    .dataframe tbody tr th {\n",
       "        vertical-align: top;\n",
       "    }\n",
       "\n",
       "    .dataframe thead th {\n",
       "        text-align: right;\n",
       "    }\n",
       "</style>\n",
       "<table border=\"1\" class=\"dataframe\">\n",
       "  <thead>\n",
       "    <tr style=\"text-align: right;\">\n",
       "      <th></th>\n",
       "      <th>0</th>\n",
       "      <th>1</th>\n",
       "      <th>2</th>\n",
       "      <th>3</th>\n",
       "      <th>4</th>\n",
       "      <th>5</th>\n",
       "      <th>6</th>\n",
       "      <th>7</th>\n",
       "    </tr>\n",
       "  </thead>\n",
       "  <tbody>\n",
       "    <tr>\n",
       "      <th>0</th>\n",
       "      <td>Avi Flombaum</td>\n",
       "      <td>4698780125</td>\n",
       "      <td>1776 New York Ave</td>\n",
       "      <td>3</td>\n",
       "      <td>Rex</td>\n",
       "      <td>Chihuahua</td>\n",
       "      <td>1</td>\n",
       "      <td>3</td>\n",
       "    </tr>\n",
       "  </tbody>\n",
       "</table>\n",
       "</div>"
      ],
      "text/plain": [
       "              0           1                  2  3    4          5  6  7\n",
       "0  Avi Flombaum  4698780125  1776 New York Ave  3  Rex  Chihuahua  1  3"
      ]
     },
     "execution_count": 14,
     "metadata": {},
     "output_type": "execute_result"
    }
   ],
   "source": [
    "sql_str = \"\"\"\n",
    "\n",
    "SELECT * from db_owners.owners o\n",
    "LEFT JOIN dogs d ON d.Owner_ID = o.ID\n",
    "WHERE o.Name=\"Avi Flombaum\"\n",
    "\n",
    "\n",
    "\"\"\"\n",
    "\n",
    "\n",
    "df = pd.DataFrame(c.execute(sql_str).fetchall())\n",
    "\n",
    "df"
   ]
  },
  {
   "cell_type": "code",
   "execution_count": null,
   "metadata": {},
   "outputs": [],
   "source": []
  }
 ],
 "metadata": {
  "kernelspec": {
   "display_name": "Python 3",
   "language": "python",
   "name": "python3"
  },
  "language_info": {
   "codemirror_mode": {
    "name": "ipython",
    "version": 3
   },
   "file_extension": ".py",
   "mimetype": "text/x-python",
   "name": "python",
   "nbconvert_exporter": "python",
   "pygments_lexer": "ipython3",
   "version": "3.7.3"
  }
 },
 "nbformat": 4,
 "nbformat_minor": 2
}
