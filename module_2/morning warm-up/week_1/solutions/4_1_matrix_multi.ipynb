{
 "cells": [
  {
   "cell_type": "markdown",
   "metadata": {},
   "source": [
    "# Week 4, 4.1 matrix games "
   ]
  },
  {
   "cell_type": "markdown",
   "metadata": {},
   "source": [
    "### Partial solution - doesn't include sections 9-12"
   ]
  },
  {
   "cell_type": "markdown",
   "metadata": {},
   "source": [
    " 1. create a matrix (numpy array) of ones sized (100 X 50) (use .shape to check your matrix)\n",
    " 2. create a matrix of zeros the same size as the matrix from (1)\n",
    " 3. create a new matrix that will be the concatenation of (1 & 2) --> matrix sized (200, 50)\n",
    " 4. Add the two matrices (from 1 & 2) to get one matrix (100 X 50) --> check yourself (do all enteries show 1?)\n",
    " 5. Use the function we have created few warm-ups ago to create two matrices 20X40 from multivariate normal distribution\n",
    " 6. let's try to make two operations: \n",
    "     - matrix multiplication (first test it on a 2X2 matrices)\n",
    "     - element wise multiplication \n",
    " 7. let's create again the linear equations Y = XW + noise \n",
    " 8. Can you calculate the weight matrix"
   ]
  },
  {
   "cell_type": "markdown",
   "metadata": {},
   "source": [
    "### Import packages"
   ]
  },
  {
   "cell_type": "code",
   "execution_count": null,
   "metadata": {},
   "outputs": [],
   "source": [
    "import numpy as np\n",
    "from numpy.linalg import inv"
   ]
  },
  {
   "cell_type": "markdown",
   "metadata": {},
   "source": [
    "### Functions"
   ]
  },
  {
   "cell_type": "code",
   "execution_count": 3,
   "metadata": {},
   "outputs": [],
   "source": [
    " def x_from_standard_multivariate_normal(dim_x, num_observ):\n",
    "        x = np.random.multivariate_normal(\n",
    "            np.zeros(dim_x), np.eye(dim_x), size=num_observ)\n",
    "        return x"
   ]
  },
  {
   "cell_type": "code",
   "execution_count": null,
   "metadata": {},
   "outputs": [],
   "source": [
    "# Create a matrix full of 1's with 100 rows and 50 columns  \n",
    "ones = np.ones((100, 50))"
   ]
  },
  {
   "cell_type": "code",
   "execution_count": null,
   "metadata": {},
   "outputs": [],
   "source": [
    "# Create a matrix full of 0's with 100 rows and 50 columns  \n",
    "zeros = np.zeros((100, 50))"
   ]
  },
  {
   "cell_type": "code",
   "execution_count": null,
   "metadata": {},
   "outputs": [],
   "source": [
    "# append the rows of two matrics (axis=0) to get a 200 rows over 50 columns matrix\n",
    "concat_mat = np.append(ones, zeros, axis=0)"
   ]
  },
  {
   "cell_type": "code",
   "execution_count": null,
   "metadata": {},
   "outputs": [],
   "source": [
    "# Add the matrix of ones and zeros to get a matrix of ones filled with 1's after addition \n",
    "addition_mat = ones + zeros"
   ]
  },
  {
   "cell_type": "code",
   "execution_count": 5,
   "metadata": {},
   "outputs": [],
   "source": [
    "# create two matrices each one with two rows and two columns\n",
    "trial_mat = np.array([[1, 2], [3, 4]])\n",
    "\n",
    "trial_mat_2 = np.array([[1, 0], [0, 1]])"
   ]
  },
  {
   "cell_type": "code",
   "execution_count": null,
   "metadata": {},
   "outputs": [],
   "source": [
    "# matrix multiplication\n",
    "multiply = np.matmul(trial_mat, trial_mat_2)"
   ]
  },
  {
   "cell_type": "code",
   "execution_count": 4,
   "metadata": {
    "collapsed": true
   },
   "outputs": [
    {
     "data": {
      "text/plain": [
       "array([[ 1.13795782],\n",
       "       [-0.55465825],\n",
       "       [ 0.41561432],\n",
       "       [ 0.54409362],\n",
       "       [ 2.21866093],\n",
       "       [ 0.77432772],\n",
       "       [-0.31299262],\n",
       "       [ 1.61616969],\n",
       "       [-0.34327934],\n",
       "       [ 0.35454954],\n",
       "       [ 1.68873719],\n",
       "       [ 0.45003582],\n",
       "       [ 0.63460449],\n",
       "       [-1.29139095],\n",
       "       [ 0.36494245],\n",
       "       [ 0.06798861],\n",
       "       [-0.81414822],\n",
       "       [ 0.75176235],\n",
       "       [-0.78130815],\n",
       "       [ 0.18818494]])"
      ]
     },
     "execution_count": 4,
     "metadata": {},
     "output_type": "execute_result"
    }
   ],
   "source": [
    "#  Element wise multiplication\n",
    "element_wise_mul = trial_mat * trial_mat_2 "
   ]
  },
  {
   "cell_type": "code",
   "execution_count": null,
   "metadata": {},
   "outputs": [],
   "source": [
    "# get 40 observations each one with 20 variables (e.g. bedrooms, bathrooms, view etc.) from normal distribution \n",
    "# with mean 0 and variance 1\n",
    "X = x_from_standard_multivariate_normal(20, 40)"
   ]
  },
  {
   "cell_type": "code",
   "execution_count": null,
   "metadata": {},
   "outputs": [],
   "source": [
    "# We want to create a target Y which would correspond to a multiple linear regression model\n",
    "# for that we need to multiply each observation with a coefficient matrix (W) consisting of 20 weights/ coefficients \n",
    "# where each coefficient multiplies one variable (e.g. w3 multiplies waterfront)\n",
    "W = x_from_standard_multivariate_normal(20, 1)\n",
    "\n",
    "W = W.reshape(20, -1)"
   ]
  },
  {
   "cell_type": "code",
   "execution_count": null,
   "metadata": {},
   "outputs": [],
   "source": [
    "# No measurement is perfectly captured and so. we add some noise - each observation (40 in total) would recieve \n",
    "# one noise parameter \n",
    "noise = x_from_standard_multivariate_normal(1, 40)"
   ]
  },
  {
   "cell_type": "code",
   "execution_count": null,
   "metadata": {},
   "outputs": [],
   "source": [
    "## When we do a matrix multiplication of X (40 by 20) times W (20 by 1) we get a vector sized 40 by 1 \n",
    "## Meaning each observation gets one target variable (e.g. house prices)\n",
    "Y = np.matmul(X, W) + noise"
   ]
  },
  {
   "cell_type": "code",
   "execution_count": null,
   "metadata": {},
   "outputs": [],
   "source": [
    "# remember W = (X^T*X)^-1 * X^T * Y\n",
    "w_hat = (inv(X.transpose().dot(X)).dot(X.transpose())).dot(Y)"
   ]
  }
 ],
 "metadata": {
  "kernelspec": {
   "display_name": "Python 3",
   "language": "python",
   "name": "python3"
  },
  "language_info": {
   "codemirror_mode": {
    "name": "ipython",
    "version": 3
   },
   "file_extension": ".py",
   "mimetype": "text/x-python",
   "name": "python",
   "nbconvert_exporter": "python",
   "pygments_lexer": "ipython3",
   "version": "3.7.1"
  }
 },
 "nbformat": 4,
 "nbformat_minor": 2
}
