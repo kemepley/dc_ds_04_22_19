{
 "cells": [
  {
   "cell_type": "code",
   "execution_count": 2,
   "metadata": {},
   "outputs": [],
   "source": [
    "import requests"
   ]
  },
  {
   "cell_type": "markdown",
   "metadata": {},
   "source": [
    "1. The population of the planet Geonosis\n",
    "2. The cargo capacity of the AT-ST vehicle\n",
    "3. The birth year of Darth Vader\n",
    "4. The eye color of the Gungan species "
   ]
  },
  {
   "cell_type": "code",
   "execution_count": 3,
   "metadata": {},
   "outputs": [],
   "source": [
    "url = 'https://swapi.co/api'\n",
    "r = requests.get(url)"
   ]
  },
  {
   "cell_type": "code",
   "execution_count": 8,
   "metadata": {},
   "outputs": [],
   "source": [
    "starwars = r.json()"
   ]
  },
  {
   "cell_type": "code",
   "execution_count": 30,
   "metadata": {},
   "outputs": [
    {
     "data": {
      "text/plain": [
       "dict_keys(['people', 'planets', 'films', 'species', 'vehicles', 'starships'])"
      ]
     },
     "execution_count": 30,
     "metadata": {},
     "output_type": "execute_result"
    }
   ],
   "source": [
    "starwars.keys()"
   ]
  },
  {
   "cell_type": "code",
   "execution_count": 18,
   "metadata": {},
   "outputs": [],
   "source": [
    "p = requests.get(starwars['planets'])"
   ]
  },
  {
   "cell_type": "code",
   "execution_count": 25,
   "metadata": {},
   "outputs": [],
   "source": [
    "planets = p.json()"
   ]
  },
  {
   "cell_type": "code",
   "execution_count": 29,
   "metadata": {},
   "outputs": [
    {
     "data": {
      "text/plain": [
       "'100000000000'"
      ]
     },
     "execution_count": 29,
     "metadata": {},
     "output_type": "execute_result"
    }
   ],
   "source": [
    "# The population of the planet Geonosis\n",
    "planets['results'][9]['population']"
   ]
  },
  {
   "cell_type": "code",
   "execution_count": 31,
   "metadata": {},
   "outputs": [],
   "source": [
    "v = requests.get(starwars['vehicles'])"
   ]
  },
  {
   "cell_type": "code",
   "execution_count": 34,
   "metadata": {},
   "outputs": [],
   "source": [
    "vehicles = v.json()"
   ]
  },
  {
   "cell_type": "code",
   "execution_count": 40,
   "metadata": {},
   "outputs": [
    {
     "data": {
      "text/plain": [
       "'200'"
      ]
     },
     "execution_count": 40,
     "metadata": {},
     "output_type": "execute_result"
    }
   ],
   "source": [
    "# The cargo capacity of the AT-ST vehicle\n",
    "vehicles['results'][7]['cargo_capacity']"
   ]
  },
  {
   "cell_type": "code",
   "execution_count": 42,
   "metadata": {},
   "outputs": [],
   "source": [
    "c = requests.get(starwars['people'])"
   ]
  },
  {
   "cell_type": "code",
   "execution_count": 43,
   "metadata": {},
   "outputs": [],
   "source": [
    "characters = c.json()"
   ]
  },
  {
   "cell_type": "code",
   "execution_count": 47,
   "metadata": {},
   "outputs": [
    {
     "data": {
      "text/plain": [
       "'41.9BBY'"
      ]
     },
     "execution_count": 47,
     "metadata": {},
     "output_type": "execute_result"
    }
   ],
   "source": [
    "# The birth year of Darth Vader\n",
    "characters['results'][3]['birth_year']"
   ]
  },
  {
   "cell_type": "code",
   "execution_count": 49,
   "metadata": {},
   "outputs": [],
   "source": [
    "s = requests.get(starwars['species'])"
   ]
  },
  {
   "cell_type": "code",
   "execution_count": 50,
   "metadata": {},
   "outputs": [],
   "source": [
    "species = s.json()"
   ]
  },
  {
   "cell_type": "code",
   "execution_count": 53,
   "metadata": {},
   "outputs": [
    {
     "data": {
      "text/plain": [
       "'orange'"
      ]
     },
     "execution_count": 53,
     "metadata": {},
     "output_type": "execute_result"
    }
   ],
   "source": [
    "# The eye color of the Gungan species\n",
    "species['results'][7]['eye_colors']"
   ]
  },
  {
   "cell_type": "markdown",
   "metadata": {},
   "source": [
    "BONUS: \n",
    "5. Our API indicates that Chewbacca, Han Solo, and Lando Calrissian have all piloted the Millennium Falcon at one point or another. However, there seems to be one more pilot mentioned in the API. We want to grab the name of the homeworld of the fourth pilot of the Millennium Falcon. How would we do so?"
   ]
  },
  {
   "cell_type": "code",
   "execution_count": 55,
   "metadata": {},
   "outputs": [],
   "source": [
    "t = requests.get(starwars['starships'])\n",
    "starships = t.json()"
   ]
  },
  {
   "cell_type": "code",
   "execution_count": 56,
   "metadata": {},
   "outputs": [
    {
     "data": {
      "text/plain": [
       "{'count': 37,\n",
       " 'next': 'https://swapi.co/api/starships/?page=2',\n",
       " 'previous': None,\n",
       " 'results': [{'name': 'Executor',\n",
       "   'model': 'Executor-class star dreadnought',\n",
       "   'manufacturer': 'Kuat Drive Yards, Fondor Shipyards',\n",
       "   'cost_in_credits': '1143350000',\n",
       "   'length': '19000',\n",
       "   'max_atmosphering_speed': 'n/a',\n",
       "   'crew': '279144',\n",
       "   'passengers': '38000',\n",
       "   'cargo_capacity': '250000000',\n",
       "   'consumables': '6 years',\n",
       "   'hyperdrive_rating': '2.0',\n",
       "   'MGLT': '40',\n",
       "   'starship_class': 'Star dreadnought',\n",
       "   'pilots': [],\n",
       "   'films': ['https://swapi.co/api/films/2/', 'https://swapi.co/api/films/3/'],\n",
       "   'created': '2014-12-15T12:31:42.547000Z',\n",
       "   'edited': '2017-04-19T10:56:06.685592Z',\n",
       "   'url': 'https://swapi.co/api/starships/15/'},\n",
       "  {'name': 'Sentinel-class landing craft',\n",
       "   'model': 'Sentinel-class landing craft',\n",
       "   'manufacturer': 'Sienar Fleet Systems, Cyngus Spaceworks',\n",
       "   'cost_in_credits': '240000',\n",
       "   'length': '38',\n",
       "   'max_atmosphering_speed': '1000',\n",
       "   'crew': '5',\n",
       "   'passengers': '75',\n",
       "   'cargo_capacity': '180000',\n",
       "   'consumables': '1 month',\n",
       "   'hyperdrive_rating': '1.0',\n",
       "   'MGLT': '70',\n",
       "   'starship_class': 'landing craft',\n",
       "   'pilots': [],\n",
       "   'films': ['https://swapi.co/api/films/1/'],\n",
       "   'created': '2014-12-10T15:48:00.586000Z',\n",
       "   'edited': '2014-12-22T17:35:44.431407Z',\n",
       "   'url': 'https://swapi.co/api/starships/5/'},\n",
       "  {'name': 'Death Star',\n",
       "   'model': 'DS-1 Orbital Battle Station',\n",
       "   'manufacturer': 'Imperial Department of Military Research, Sienar Fleet Systems',\n",
       "   'cost_in_credits': '1000000000000',\n",
       "   'length': '120000',\n",
       "   'max_atmosphering_speed': 'n/a',\n",
       "   'crew': '342953',\n",
       "   'passengers': '843342',\n",
       "   'cargo_capacity': '1000000000000',\n",
       "   'consumables': '3 years',\n",
       "   'hyperdrive_rating': '4.0',\n",
       "   'MGLT': '10',\n",
       "   'starship_class': 'Deep Space Mobile Battlestation',\n",
       "   'pilots': [],\n",
       "   'films': ['https://swapi.co/api/films/1/'],\n",
       "   'created': '2014-12-10T16:36:50.509000Z',\n",
       "   'edited': '2014-12-22T17:35:44.452589Z',\n",
       "   'url': 'https://swapi.co/api/starships/9/'},\n",
       "  {'name': 'Millennium Falcon',\n",
       "   'model': 'YT-1300 light freighter',\n",
       "   'manufacturer': 'Corellian Engineering Corporation',\n",
       "   'cost_in_credits': '100000',\n",
       "   'length': '34.37',\n",
       "   'max_atmosphering_speed': '1050',\n",
       "   'crew': '4',\n",
       "   'passengers': '6',\n",
       "   'cargo_capacity': '100000',\n",
       "   'consumables': '2 months',\n",
       "   'hyperdrive_rating': '0.5',\n",
       "   'MGLT': '75',\n",
       "   'starship_class': 'Light freighter',\n",
       "   'pilots': ['https://swapi.co/api/people/13/',\n",
       "    'https://swapi.co/api/people/14/',\n",
       "    'https://swapi.co/api/people/25/',\n",
       "    'https://swapi.co/api/people/31/'],\n",
       "   'films': ['https://swapi.co/api/films/2/',\n",
       "    'https://swapi.co/api/films/7/',\n",
       "    'https://swapi.co/api/films/3/',\n",
       "    'https://swapi.co/api/films/1/'],\n",
       "   'created': '2014-12-10T16:59:45.094000Z',\n",
       "   'edited': '2014-12-22T17:35:44.464156Z',\n",
       "   'url': 'https://swapi.co/api/starships/10/'},\n",
       "  {'name': 'Y-wing',\n",
       "   'model': 'BTL Y-wing',\n",
       "   'manufacturer': 'Koensayr Manufacturing',\n",
       "   'cost_in_credits': '134999',\n",
       "   'length': '14',\n",
       "   'max_atmosphering_speed': '1000km',\n",
       "   'crew': '2',\n",
       "   'passengers': '0',\n",
       "   'cargo_capacity': '110',\n",
       "   'consumables': '1 week',\n",
       "   'hyperdrive_rating': '1.0',\n",
       "   'MGLT': '80',\n",
       "   'starship_class': 'assault starfighter',\n",
       "   'pilots': [],\n",
       "   'films': ['https://swapi.co/api/films/2/',\n",
       "    'https://swapi.co/api/films/3/',\n",
       "    'https://swapi.co/api/films/1/'],\n",
       "   'created': '2014-12-12T11:00:39.817000Z',\n",
       "   'edited': '2014-12-22T17:35:44.479706Z',\n",
       "   'url': 'https://swapi.co/api/starships/11/'},\n",
       "  {'name': 'X-wing',\n",
       "   'model': 'T-65 X-wing',\n",
       "   'manufacturer': 'Incom Corporation',\n",
       "   'cost_in_credits': '149999',\n",
       "   'length': '12.5',\n",
       "   'max_atmosphering_speed': '1050',\n",
       "   'crew': '1',\n",
       "   'passengers': '0',\n",
       "   'cargo_capacity': '110',\n",
       "   'consumables': '1 week',\n",
       "   'hyperdrive_rating': '1.0',\n",
       "   'MGLT': '100',\n",
       "   'starship_class': 'Starfighter',\n",
       "   'pilots': ['https://swapi.co/api/people/1/',\n",
       "    'https://swapi.co/api/people/9/',\n",
       "    'https://swapi.co/api/people/18/',\n",
       "    'https://swapi.co/api/people/19/'],\n",
       "   'films': ['https://swapi.co/api/films/2/',\n",
       "    'https://swapi.co/api/films/3/',\n",
       "    'https://swapi.co/api/films/1/'],\n",
       "   'created': '2014-12-12T11:19:05.340000Z',\n",
       "   'edited': '2014-12-22T17:35:44.491233Z',\n",
       "   'url': 'https://swapi.co/api/starships/12/'},\n",
       "  {'name': 'TIE Advanced x1',\n",
       "   'model': 'Twin Ion Engine Advanced x1',\n",
       "   'manufacturer': 'Sienar Fleet Systems',\n",
       "   'cost_in_credits': 'unknown',\n",
       "   'length': '9.2',\n",
       "   'max_atmosphering_speed': '1200',\n",
       "   'crew': '1',\n",
       "   'passengers': '0',\n",
       "   'cargo_capacity': '150',\n",
       "   'consumables': '5 days',\n",
       "   'hyperdrive_rating': '1.0',\n",
       "   'MGLT': '105',\n",
       "   'starship_class': 'Starfighter',\n",
       "   'pilots': ['https://swapi.co/api/people/4/'],\n",
       "   'films': ['https://swapi.co/api/films/1/'],\n",
       "   'created': '2014-12-12T11:21:32.991000Z',\n",
       "   'edited': '2014-12-22T17:35:44.549047Z',\n",
       "   'url': 'https://swapi.co/api/starships/13/'},\n",
       "  {'name': 'Slave 1',\n",
       "   'model': 'Firespray-31-class patrol and attack',\n",
       "   'manufacturer': 'Kuat Systems Engineering',\n",
       "   'cost_in_credits': 'unknown',\n",
       "   'length': '21.5',\n",
       "   'max_atmosphering_speed': '1000',\n",
       "   'crew': '1',\n",
       "   'passengers': '6',\n",
       "   'cargo_capacity': '70000',\n",
       "   'consumables': '1 month',\n",
       "   'hyperdrive_rating': '3.0',\n",
       "   'MGLT': '70',\n",
       "   'starship_class': 'Patrol craft',\n",
       "   'pilots': ['https://swapi.co/api/people/22/'],\n",
       "   'films': ['https://swapi.co/api/films/2/', 'https://swapi.co/api/films/5/'],\n",
       "   'created': '2014-12-15T13:00:56.332000Z',\n",
       "   'edited': '2014-12-22T17:35:44.716273Z',\n",
       "   'url': 'https://swapi.co/api/starships/21/'},\n",
       "  {'name': 'Imperial shuttle',\n",
       "   'model': 'Lambda-class T-4a shuttle',\n",
       "   'manufacturer': 'Sienar Fleet Systems',\n",
       "   'cost_in_credits': '240000',\n",
       "   'length': '20',\n",
       "   'max_atmosphering_speed': '850',\n",
       "   'crew': '6',\n",
       "   'passengers': '20',\n",
       "   'cargo_capacity': '80000',\n",
       "   'consumables': '2 months',\n",
       "   'hyperdrive_rating': '1.0',\n",
       "   'MGLT': '50',\n",
       "   'starship_class': 'Armed government transport',\n",
       "   'pilots': ['https://swapi.co/api/people/1/',\n",
       "    'https://swapi.co/api/people/13/',\n",
       "    'https://swapi.co/api/people/14/'],\n",
       "   'films': ['https://swapi.co/api/films/2/', 'https://swapi.co/api/films/3/'],\n",
       "   'created': '2014-12-15T13:04:47.235000Z',\n",
       "   'edited': '2014-12-22T17:35:44.795405Z',\n",
       "   'url': 'https://swapi.co/api/starships/22/'},\n",
       "  {'name': 'EF76 Nebulon-B escort frigate',\n",
       "   'model': 'EF76 Nebulon-B escort frigate',\n",
       "   'manufacturer': 'Kuat Drive Yards',\n",
       "   'cost_in_credits': '8500000',\n",
       "   'length': '300',\n",
       "   'max_atmosphering_speed': '800',\n",
       "   'crew': '854',\n",
       "   'passengers': '75',\n",
       "   'cargo_capacity': '6000000',\n",
       "   'consumables': '2 years',\n",
       "   'hyperdrive_rating': '2.0',\n",
       "   'MGLT': '40',\n",
       "   'starship_class': 'Escort ship',\n",
       "   'pilots': [],\n",
       "   'films': ['https://swapi.co/api/films/2/', 'https://swapi.co/api/films/3/'],\n",
       "   'created': '2014-12-15T13:06:30.813000Z',\n",
       "   'edited': '2014-12-22T17:35:44.848329Z',\n",
       "   'url': 'https://swapi.co/api/starships/23/'}]}"
      ]
     },
     "execution_count": 56,
     "metadata": {},
     "output_type": "execute_result"
    }
   ],
   "source": [
    "starships"
   ]
  },
  {
   "cell_type": "code",
   "execution_count": 59,
   "metadata": {},
   "outputs": [],
   "source": [
    "f = requests.get('https://swapi.co/api/people/31/')\n",
    "fourth = f.json()"
   ]
  },
  {
   "cell_type": "code",
   "execution_count": 60,
   "metadata": {},
   "outputs": [
    {
     "data": {
      "text/plain": [
       "{'name': 'Nien Nunb',\n",
       " 'height': '160',\n",
       " 'mass': '68',\n",
       " 'hair_color': 'none',\n",
       " 'skin_color': 'grey',\n",
       " 'eye_color': 'black',\n",
       " 'birth_year': 'unknown',\n",
       " 'gender': 'male',\n",
       " 'homeworld': 'https://swapi.co/api/planets/33/',\n",
       " 'films': ['https://swapi.co/api/films/3/'],\n",
       " 'species': ['https://swapi.co/api/species/10/'],\n",
       " 'vehicles': [],\n",
       " 'starships': ['https://swapi.co/api/starships/10/'],\n",
       " 'created': '2014-12-18T11:26:18.541000Z',\n",
       " 'edited': '2014-12-20T21:17:50.371000Z',\n",
       " 'url': 'https://swapi.co/api/people/31/'}"
      ]
     },
     "execution_count": 60,
     "metadata": {},
     "output_type": "execute_result"
    }
   ],
   "source": [
    "fourth"
   ]
  },
  {
   "cell_type": "code",
   "execution_count": 61,
   "metadata": {},
   "outputs": [],
   "source": [
    "h = requests.get('https://swapi.co/api/planets/33/')"
   ]
  },
  {
   "cell_type": "code",
   "execution_count": 62,
   "metadata": {},
   "outputs": [],
   "source": [
    "homeworld = h.json()"
   ]
  },
  {
   "cell_type": "code",
   "execution_count": 63,
   "metadata": {},
   "outputs": [
    {
     "data": {
      "text/plain": [
       "{'name': 'Sullust',\n",
       " 'rotation_period': '20',\n",
       " 'orbital_period': '263',\n",
       " 'diameter': '12780',\n",
       " 'climate': 'superheated',\n",
       " 'gravity': '1',\n",
       " 'terrain': 'mountains, volcanoes, rocky deserts',\n",
       " 'surface_water': '5',\n",
       " 'population': '18500000000',\n",
       " 'residents': ['https://swapi.co/api/people/31/'],\n",
       " 'films': [],\n",
       " 'created': '2014-12-18T11:25:40.243000Z',\n",
       " 'edited': '2014-12-20T20:58:18.474000Z',\n",
       " 'url': 'https://swapi.co/api/planets/33/'}"
      ]
     },
     "execution_count": 63,
     "metadata": {},
     "output_type": "execute_result"
    }
   ],
   "source": [
    "homeworld"
   ]
  },
  {
   "cell_type": "code",
   "execution_count": null,
   "metadata": {},
   "outputs": [],
   "source": []
  }
 ],
 "metadata": {
  "kernelspec": {
   "display_name": "Python 3",
   "language": "python",
   "name": "python3"
  },
  "language_info": {
   "codemirror_mode": {
    "name": "ipython",
    "version": 3
   },
   "file_extension": ".py",
   "mimetype": "text/x-python",
   "name": "python",
   "nbconvert_exporter": "python",
   "pygments_lexer": "ipython3",
   "version": "3.7.3"
  }
 },
 "nbformat": 4,
 "nbformat_minor": 2
}
