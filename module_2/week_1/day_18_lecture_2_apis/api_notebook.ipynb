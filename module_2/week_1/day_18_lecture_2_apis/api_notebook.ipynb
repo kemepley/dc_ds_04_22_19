{
 "cells": [
  {
   "cell_type": "markdown",
   "metadata": {
    "slideshow": {
     "slide_type": "slide"
    }
   },
   "source": [
    "# APIs and Python"
   ]
  },
  {
   "cell_type": "markdown",
   "metadata": {
    "slideshow": {
     "slide_type": "slide"
    }
   },
   "source": [
    "## The Many Use Cases for APIs\n",
    "APIs can actually be used for many things - not just for retrieving information. Twilio has an API that allows you to write a script to call their API to send text messages to people. GitHub has an API for creating new repositories. Many services have an API allowing a computer to automate a task that a person might otherwise have to do through a website - whether uploading a photo to Flickr, searching for a company name in a state database or getting a list of garbage collection times for a municipality."
   ]
  },
  {
   "cell_type": "markdown",
   "metadata": {
    "slideshow": {
     "slide_type": "slide"
    }
   },
   "source": [
    "### _Learning Goals:_<br/>\n",
    "  - Identify and discuss APIs\n",
    "  - Discuss and explain different request (GET, POST, PUT, DELETE) and CRUD operations\n",
    "  - Explore the attributes of a response object\n",
    "  - Check the status of a request and interpret status codes\n",
    "  - Access data from an API using the requests library\n",
    "  - Create a pandas dataframe from the data returned from an API and visualize the data\n",
    "  - If time, target an API of their own!!!"
   ]
  },
  {
   "cell_type": "markdown",
   "metadata": {
    "slideshow": {
     "slide_type": "slide"
    }
   },
   "source": [
    "## Limitations of APIs\n",
    "When working with APIs, there are some limitations you have to be aware of - especially relating to scope and scale."
   ]
  },
  {
   "cell_type": "markdown",
   "metadata": {
    "slideshow": {
     "slide_type": "fragment"
    }
   },
   "source": [
    "* **Scope** - Just because a company has an API and has information, it doesn't mean you can get all of the information through their API. "
   ]
  },
  {
   "cell_type": "markdown",
   "metadata": {
    "slideshow": {
     "slide_type": "fragment"
    }
   },
   "source": [
    "* **Scale** - Some APIs are provided for free as a public service. Others you have to pay for, or allow you to perform activities (like sending a text message) that you pay for. Make sure that you know what the rate limits are and that your use case isn't going to need more API calls than you will be able to make."
   ]
  },
  {
   "cell_type": "markdown",
   "metadata": {
    "slideshow": {
     "slide_type": "fragment"
    }
   },
   "source": [
    "Let's take a look at the `requests` library and it's uses."
   ]
  },
  {
   "cell_type": "markdown",
   "metadata": {
    "slideshow": {
     "slide_type": "slide"
    }
   },
   "source": [
    "### \"Requests is the only Non-GMO HTTP library for Python, safe for human consumption.\"\n",
    "\n",
    "![img-req](requests-pic.jpeg)\n",
    "\n",
    "Straight from the `requests` [documentation](https://pypi.org/project/requests/)"
   ]
  },
  {
   "cell_type": "markdown",
   "metadata": {
    "slideshow": {
     "slide_type": "slide"
    }
   },
   "source": [
    "![nongmao](requests_med.png)\n",
    "\n",
    "\"Requests allows you to send organic, grass-fed HTTP/1.1 requests, without the need for manual labor. \"<br>\n",
    "[More requests documentation](https://2.python-requests.org//en/v0.10.6/api/)"
   ]
  },
  {
   "cell_type": "markdown",
   "metadata": {},
   "source": [
    "### Let's get started!"
   ]
  },
  {
   "cell_type": "code",
   "execution_count": 3,
   "metadata": {
    "slideshow": {
     "slide_type": "slide"
    }
   },
   "outputs": [],
   "source": [
    "import requests"
   ]
  },
  {
   "cell_type": "code",
   "execution_count": null,
   "metadata": {},
   "outputs": [],
   "source": [
    "#!pip install requests"
   ]
  },
  {
   "cell_type": "markdown",
   "metadata": {},
   "source": [
    "### Types of requests\n",
    "\n",
    "We will mostly use GET, but there are other options\n",
    "\n",
    "Let's say you are looking at an API for a car rental company like Hertz, or maybe even Zipcar.\n",
    "\n",
    "The following different requests will generate these different responses.\n",
    "\n",
    "|Request        | Result        |\n",
    "|-------------|-------------|\n",
    "|GET /stores/   | User sees the list of stores|\n",
    "|GET /rentals/  | User sees the history of car rentals|\n",
    "|POST /rentals/ | User rents a car|\n",
    "|PUT /rentals/{id}/| User changes destination store|\n",
    "|DELETE /rentals/{id}/| User cancels the active car rental|\n",
    "\n",
    "\n"
   ]
  },
  {
   "cell_type": "code",
   "execution_count": null,
   "metadata": {
    "slideshow": {
     "slide_type": "slide"
    }
   },
   "outputs": [],
   "source": [
    "rental_json = [{\n",
    "    \"id\": 1,\n",
    "    \"name\": \"John St\",\n",
    "    \"location\": [29, 95],\n",
    "    \"available_cars_quantity\": 10\n",
    "},\n",
    "{\n",
    "    \"id\": 2,\n",
    "    \"name\": \"Scott St.\",\n",
    "    \"location\": [29.5, 95.7],\n",
    "    \"available_cars_quantity\": 2\n",
    "}]"
   ]
  },
  {
   "cell_type": "code",
   "execution_count": null,
   "metadata": {},
   "outputs": [],
   "source": [
    "#create a post request from https://httpbin.org/post and view it in json format\n",
    "\n",
    "r = requests.post() #put url and data = {'key':'value'} format here in the bananas!\n",
    "r.json()"
   ]
  },
  {
   "cell_type": "markdown",
   "metadata": {
    "slideshow": {
     "slide_type": "slide"
    }
   },
   "source": [
    "### Request Class and Attributes"
   ]
  },
  {
   "cell_type": "code",
   "execution_count": 7,
   "metadata": {},
   "outputs": [
    {
     "data": {
      "text/plain": [
       "requests.models.Response"
      ]
     },
     "execution_count": 7,
     "metadata": {},
     "output_type": "execute_result"
    }
   ],
   "source": [
    "#create a GET request from https://api.github.com/events and view it in json format\n",
    "\n",
    "r = requests.get('https://api.github.com/events') #put url here in the bananas!\n",
    "type(r)"
   ]
  },
  {
   "cell_type": "markdown",
   "metadata": {
    "slideshow": {
     "slide_type": "slide"
    }
   },
   "source": [
    "Let's check the `attributes` of a `Response` object. <br>\n",
    "https://2.python-requests.org//en/v0.10.6/api/\n",
    "\n",
    "Some key attributes:\n",
    "\n",
    "- url\n",
    "- text\n",
    "- status_code\n",
    "- headers\n",
    "- error"
   ]
  },
  {
   "cell_type": "markdown",
   "metadata": {
    "slideshow": {
     "slide_type": "slide"
    }
   },
   "source": [
    "### Checking out the status of your request"
   ]
  },
  {
   "cell_type": "code",
   "execution_count": null,
   "metadata": {},
   "outputs": [],
   "source": [
    "#get the status of your post request\n",
    "r.status_code"
   ]
  },
  {
   "cell_type": "markdown",
   "metadata": {
    "slideshow": {
     "slide_type": "slide"
    }
   },
   "source": [
    "#### Types of status codes\n",
    "1xx - Informational responses\n",
    "\n",
    "2xx - Success\n",
    "- 200 OK\n",
    "- 201 Created\n",
    "- 204 No Content\n",
    "\n",
    "3xx - Redirection\n",
    "\n",
    "- 301 Moved Permanently (permanent URL redirection)\n",
    "- 304 Not Modified (A conditional GET or HEAD request has been received and would have resulted in a 200 OK response if it were not for the fact that the condition evaluated to false.)"
   ]
  },
  {
   "cell_type": "markdown",
   "metadata": {
    "slideshow": {
     "slide_type": "slide"
    }
   },
   "source": [
    "4xx - Client errors\n",
    "\n",
    "- 400 Bad Request\n",
    "- 401 Unauthorized\n",
    "- 403 Forbidden\n",
    "- 404 Not Found\n",
    "\n",
    "5xx - Server errors\n",
    "\n",
    "- 500 Internal Server Error"
   ]
  },
  {
   "cell_type": "markdown",
   "metadata": {
    "slideshow": {
     "slide_type": "slide"
    }
   },
   "source": [
    "https://http.cat"
   ]
  },
  {
   "cell_type": "code",
   "execution_count": null,
   "metadata": {
    "slideshow": {
     "slide_type": "slide"
    }
   },
   "outputs": [],
   "source": [
    "#get status code for a \"broken\" link\n",
    "\n",
    "r = requests.get('https://api.github.com/fake-ending')\n",
    "r.status_code"
   ]
  },
  {
   "cell_type": "markdown",
   "metadata": {
    "slideshow": {
     "slide_type": "slide"
    }
   },
   "source": [
    "Can also explictly ask for the returned format to be json as a method."
   ]
  },
  {
   "cell_type": "code",
   "execution_count": null,
   "metadata": {},
   "outputs": [],
   "source": [
    "r.json()"
   ]
  },
  {
   "cell_type": "markdown",
   "metadata": {
    "slideshow": {
     "slide_type": "slide"
    }
   },
   "source": [
    "#### A note on errors and exceptions with the Requests library\n",
    "\n",
    "There are a number of exceptions and error codes you need to be familiar with when using the Requests library in Python.\n",
    "\n",
    "- The Requests library will raise a ConnectionError exception if there is a network problem like a DNS failure, or refused connection.\n",
    "- These are rare, but with invalid HTTP responses, Requests will also raise an HTTPError exception. \n",
    "- A Timeout exception will be raised if a request times out.\n",
    "- If and when a request exceeds the preconfigured number of maximum redirections, then a TooManyRedirects exception will be raised"
   ]
  },
  {
   "cell_type": "markdown",
   "metadata": {},
   "source": [
    "Now that we know a bit more about APIs and how to interact with them in python, let's actually investigate an API from scratch. \n",
    "\n",
    "To start, go over to the API documentation at: \n",
    "\n",
    "https://dev.socrata.com/foundry/data.cityofnewyork.us/fhrw-4uyv\n",
    "\n",
    "\n",
    "<img src=\"311_api_docs.png\">"
   ]
  },
  {
   "cell_type": "markdown",
   "metadata": {
    "slideshow": {
     "slide_type": "slide"
    }
   },
   "source": [
    "## Make an initial API call to retrieve 311 complaints from a neighborhood or zip code of your choice in New York City."
   ]
  },
  {
   "cell_type": "markdown",
   "metadata": {
    "slideshow": {
     "slide_type": "slide"
    }
   },
   "source": [
    "### Using Requests"
   ]
  },
  {
   "cell_type": "code",
   "execution_count": 11,
   "metadata": {
    "slideshow": {
     "slide_type": "-"
    }
   },
   "outputs": [],
   "source": [
    "import requests\n",
    "import pandas as pd\n",
    "\n",
    "zip_code = '11004'\n",
    "\n",
    "# can't figure out date ranges at the moment...\n",
    "start_date = '2018-01-01T12:00:00'\n",
    "end_date = '2018-02-01T12:00:00'\n",
    "\n",
    "# create pull request based on parameters\n",
    "# https://data.cityofnewyork.us/Social-Services/311-Service-Requests-from-2010-to-Present/erm2-nwe9 click API\n",
    "\n",
    "url = \"https://data.cityofnewyork.us/resource/fhrw-4uyv.json?incident_zip={}\".format(zip_code)\n",
    "\n",
    "# do the pull\n",
    "response = requests.get(url)\n",
    "if response.status_code == 200:\n",
    "    data = response.json()\n",
    "else:\n",
    "    print('Hit an error.')"
   ]
  },
  {
   "cell_type": "markdown",
   "metadata": {
    "slideshow": {
     "slide_type": "slide"
    }
   },
   "source": [
    "## Briefly Explore the Structure of the Response You Received."
   ]
  },
  {
   "cell_type": "markdown",
   "metadata": {},
   "source": [
    "### Let's look at the output of our API call to NYC 311"
   ]
  },
  {
   "cell_type": "code",
   "execution_count": null,
   "metadata": {
    "slideshow": {
     "slide_type": "-"
    }
   },
   "outputs": [],
   "source": [
    "print(type(data))"
   ]
  },
  {
   "cell_type": "code",
   "execution_count": null,
   "metadata": {
    "slideshow": {
     "slide_type": "-"
    }
   },
   "outputs": [],
   "source": [
    "len(data)"
   ]
  },
  {
   "cell_type": "code",
   "execution_count": null,
   "metadata": {
    "slideshow": {
     "slide_type": "fragment"
    }
   },
   "outputs": [],
   "source": [
    "data[0]"
   ]
  },
  {
   "cell_type": "markdown",
   "metadata": {
    "slideshow": {
     "slide_type": "slide"
    }
   },
   "source": [
    "### Libraries for company-specific APIs\n",
    "\n",
    "Google has its own libraries you can import to access their apis. <br>\n",
    "NYC also uses the `sodapy` library, Socrata, to manage their open data. \n"
   ]
  },
  {
   "cell_type": "markdown",
   "metadata": {
    "slideshow": {
     "slide_type": "slide"
    }
   },
   "source": [
    "#### Extra credit for later if you want to play with it"
   ]
  },
  {
   "cell_type": "code",
   "execution_count": null,
   "metadata": {},
   "outputs": [],
   "source": [
    "# Install before running \n",
    "!pip install sodapy"
   ]
  },
  {
   "cell_type": "markdown",
   "metadata": {
    "slideshow": {
     "slide_type": "-"
    }
   },
   "source": [
    "#### Tokenize yourself, B!\n",
    "\n",
    "https://dev.socrata.com/foundry/data.cityofnewyork.us/fhrw-4uyv\n",
    "\n",
    "Scroll down and click to sign up for an app token! This is instantaneous and simple. No credit cards required!\n"
   ]
  },
  {
   "cell_type": "code",
   "execution_count": null,
   "metadata": {},
   "outputs": [],
   "source": [
    "token = '' \n",
    "\n",
    "import pandas as pd\n",
    "from sodapy import Socrata\n",
    "\n",
    "# Unauthenticated client only works with public data sets. Note 'None'\n",
    "# in place of application token, and no username or password:\n",
    "client = Socrata(\"data.cityofnewyork.us\", token)\n",
    "\n",
    "# Example authenticated client (needed for non-public datasets):\n",
    "# client = Socrata(data.cityofnewyork.us,\n",
    "#                  MyAppToken,\n",
    "#                  userame=\"user@example.com\",\n",
    "#                  password=\"AFakePassword\")\n",
    "\n",
    "# First 2000 results, returned as JSON from API / converted to Python list of\n",
    "# dictionaries by sodapy.\n",
    "results = client.get(\"fhrw-4uyv\", incident_zip = '11004', limit=1000)"
   ]
  },
  {
   "cell_type": "code",
   "execution_count": 13,
   "metadata": {
    "slideshow": {
     "slide_type": "-"
    }
   },
   "outputs": [
    {
     "data": {
      "text/plain": [
       "requests.models.Response"
      ]
     },
     "execution_count": 13,
     "metadata": {},
     "output_type": "execute_result"
    }
   ],
   "source": [
    "type(results)"
   ]
  },
  {
   "cell_type": "code",
   "execution_count": null,
   "metadata": {
    "slideshow": {
     "slide_type": "-"
    }
   },
   "outputs": [],
   "source": [
    "len(results)"
   ]
  },
  {
   "cell_type": "code",
   "execution_count": null,
   "metadata": {
    "slideshow": {
     "slide_type": "-"
    }
   },
   "outputs": [],
   "source": [
    "results[0]"
   ]
  },
  {
   "cell_type": "code",
   "execution_count": null,
   "metadata": {
    "slideshow": {
     "slide_type": "-"
    }
   },
   "outputs": [],
   "source": [
    "\n",
    "df_1 = pd.DataFrame(results)\n",
    "\n",
    "print(len(df_1))\n",
    "print(df_1.columns)\n",
    "df_1.head()"
   ]
  },
  {
   "cell_type": "markdown",
   "metadata": {
    "slideshow": {
     "slide_type": "slide"
    }
   },
   "source": [
    "## Create a Pandas DataFrame of the Data From the Response"
   ]
  },
  {
   "cell_type": "code",
   "execution_count": null,
   "metadata": {
    "slideshow": {
     "slide_type": "-"
    }
   },
   "outputs": [],
   "source": [
    "df_2 = pd.DataFrame(data)\n",
    "\n",
    "print(len(df_2))\n",
    "print(df_2.columns)\n",
    "df_2.head()"
   ]
  },
  {
   "cell_type": "markdown",
   "metadata": {
    "slideshow": {
     "slide_type": "slide"
    }
   },
   "source": [
    "## Create a Histogram of the Complaint Types From Your Dataset"
   ]
  },
  {
   "cell_type": "code",
   "execution_count": null,
   "metadata": {
    "slideshow": {
     "slide_type": "fragment"
    }
   },
   "outputs": [],
   "source": [
    "import matplotlib.pyplot as plt\n",
    "%matplotlib inline"
   ]
  },
  {
   "cell_type": "code",
   "execution_count": null,
   "metadata": {
    "scrolled": true,
    "slideshow": {
     "slide_type": "fragment"
    }
   },
   "outputs": [],
   "source": [
    "df_2.complaint_type.value_counts().plot(kind='barh', figsize=(8,12))"
   ]
  },
  {
   "cell_type": "markdown",
   "metadata": {
    "slideshow": {
     "slide_type": "slide"
    }
   },
   "source": [
    "## If we have time:\n",
    "\n",
    "https://github.com/toddmotto/public-apis\n",
    "\n",
    "\n",
    "find a buddy, find a free api, get the key, and do a get. Try to transform the response into a df."
   ]
  },
  {
   "cell_type": "code",
   "execution_count": null,
   "metadata": {},
   "outputs": [],
   "source": []
  }
 ],
 "metadata": {
  "kernelspec": {
   "display_name": "Python 3",
   "language": "python",
   "name": "python3"
  },
  "language_info": {
   "codemirror_mode": {
    "name": "ipython",
    "version": 3
   },
   "file_extension": ".py",
   "mimetype": "text/x-python",
   "name": "python",
   "nbconvert_exporter": "python",
   "pygments_lexer": "ipython3",
   "version": "3.7.0"
  }
 },
 "nbformat": 4,
 "nbformat_minor": 2
}
