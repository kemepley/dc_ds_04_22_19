{
 "cells": [
  {
   "cell_type": "markdown",
   "metadata": {},
   "source": [
    "### Get raw data from craiglist's website\n",
    "###### By: Nick and Omer"
   ]
  },
  {
   "cell_type": "code",
   "execution_count": null,
   "metadata": {},
   "outputs": [],
   "source": [
    "import requests"
   ]
  },
  {
   "cell_type": "code",
   "execution_count": null,
   "metadata": {},
   "outputs": [],
   "source": [
    "craigslist_request = requests.get('https://newyork.craigslist.org/search/brk/aap')"
   ]
  },
  {
   "cell_type": "code",
   "execution_count": null,
   "metadata": {},
   "outputs": [],
   "source": [
    "craigslist_request"
   ]
  },
  {
   "cell_type": "markdown",
   "metadata": {},
   "source": [
    "### Look what a wonderful piece we got here"
   ]
  },
  {
   "cell_type": "code",
   "execution_count": null,
   "metadata": {},
   "outputs": [],
   "source": [
    "craigslist_request.content"
   ]
  },
  {
   "cell_type": "markdown",
   "metadata": {},
   "source": [
    "###  Now let's look what beautiful soup helps us with"
   ]
  },
  {
   "cell_type": "code",
   "execution_count": null,
   "metadata": {},
   "outputs": [],
   "source": [
    "from bs4 import BeautifulSoup"
   ]
  },
  {
   "cell_type": "code",
   "execution_count": null,
   "metadata": {},
   "outputs": [],
   "source": [
    "craigslist_soup = BeautifulSoup(craigslist_request.text, 'lxml')"
   ]
  },
  {
   "cell_type": "code",
   "execution_count": null,
   "metadata": {},
   "outputs": [],
   "source": [
    "craigslist_soup"
   ]
  },
  {
   "cell_type": "markdown",
   "metadata": {},
   "source": [
    "### What's the gain? "
   ]
  },
  {
   "cell_type": "markdown",
   "metadata": {},
   "source": [
    " It's now human readable html code.\n",
    " \n",
    " But that's not all - beautiful soup has many methods to easily access the html code and grab the data we are after"
   ]
  },
  {
   "cell_type": "markdown",
   "metadata": {},
   "source": [
    " The idea is to build a dictionary containing details \n",
    " about different apartments so that later we can use it as a \n",
    " data frame for analysis. id will help us to uniquely \n",
    " identify apartments (dict key) and add info to that key.\n"
   ]
  },
  {
   "cell_type": "markdown",
   "metadata": {},
   "source": [
    "So firstly, we are interested in the id of an apartment\n",
    "\n",
    "We will use beautiful soup to find the associated html tags with ID \n",
    "\n",
    "Where can we find that? "
   ]
  },
  {
   "cell_type": "markdown",
   "metadata": {},
   "source": [
    "1. go to website \n",
    "2. open developer console \n",
    "3. inspect the elements that you are targeting, and identify the structure leading there and the tags / attributes of those elements"
   ]
  },
  {
   "cell_type": "code",
   "execution_count": null,
   "metadata": {},
   "outputs": [],
   "source": [
    "apartments = craigslist_soup.findAll('li', {'class':\"result-row\"})"
   ]
  },
  {
   "cell_type": "code",
   "execution_count": null,
   "metadata": {},
   "outputs": [],
   "source": [
    "apartments"
   ]
  },
  {
   "cell_type": "code",
   "execution_count": null,
   "metadata": {},
   "outputs": [],
   "source": [
    "len(apartments)"
   ]
  },
  {
   "cell_type": "code",
   "execution_count": null,
   "metadata": {},
   "outputs": [],
   "source": [
    "apartments[0].find('span', attrs = {'class' : 'result-price'})"
   ]
  },
  {
   "cell_type": "code",
   "execution_count": null,
   "metadata": {},
   "outputs": [],
   "source": [
    "apartments[0].find('span', attrs = {'class' : 'result-price'}).text"
   ]
  },
  {
   "cell_type": "markdown",
   "metadata": {},
   "source": [
    "### top level html attributes can be indexed directly in BeautifulSoup"
   ]
  },
  {
   "cell_type": "code",
   "execution_count": null,
   "metadata": {},
   "outputs": [],
   "source": [
    "apartments[0]"
   ]
  },
  {
   "cell_type": "code",
   "execution_count": null,
   "metadata": {},
   "outputs": [],
   "source": [
    "apartments[0]['data-pid']"
   ]
  },
  {
   "cell_type": "markdown",
   "metadata": {},
   "source": [
    "Now that we have the unique listing id per apartment (data-pid), we can write a loop to grab them for every apartment"
   ]
  },
  {
   "cell_type": "code",
   "execution_count": null,
   "metadata": {},
   "outputs": [],
   "source": [
    "for apartment in apartments:\n",
    "    print(apartment['data-pid'])"
   ]
  },
  {
   "cell_type": "code",
   "execution_count": null,
   "metadata": {},
   "outputs": [],
   "source": [
    "# apartments[0].find('span', {'class' : 'housing'}).text.strip()"
   ]
  },
  {
   "cell_type": "markdown",
   "metadata": {},
   "source": [
    "### Let's loop through the properties that we want and add them to a dictionary so we can insert it in a DataFrame"
   ]
  },
  {
   "cell_type": "code",
   "execution_count": null,
   "metadata": {},
   "outputs": [],
   "source": [
    "apartment_dict = {}\n",
    "col_names = []\n",
    "for apartment in apartments:\n",
    "    pid = apartment['data-pid']\n",
    "    \n",
    "    price = apartment.find('span', {'class' : 'result-price'}).text\n",
    "    \n",
    "    title = apartment.find('a', {'class' : 'result-title hdrlnk'}).text\n",
    "    \n",
    "    apartment_dict[pid] = [title, price]\n",
    "    \n",
    "col_names.append(['title', 'price'])"
   ]
  },
  {
   "cell_type": "code",
   "execution_count": null,
   "metadata": {},
   "outputs": [],
   "source": [
    "apartment_dict"
   ]
  },
  {
   "cell_type": "code",
   "execution_count": null,
   "metadata": {},
   "outputs": [],
   "source": [
    "import pandas as pd"
   ]
  },
  {
   "cell_type": "code",
   "execution_count": null,
   "metadata": {
    "scrolled": true
   },
   "outputs": [],
   "source": [
    "pd.DataFrame(apartment_dict).T"
   ]
  },
  {
   "cell_type": "markdown",
   "metadata": {
    "collapsed": true
   },
   "source": [
    "### Let's look at what happens when we try to grab bedrooms? "
   ]
  },
  {
   "cell_type": "code",
   "execution_count": null,
   "metadata": {},
   "outputs": [],
   "source": [
    "for apartment in apartments:\n",
    "    print(apartment.find('span', {'class' : 'housing'}))"
   ]
  },
  {
   "cell_type": "code",
   "execution_count": null,
   "metadata": {
    "scrolled": true
   },
   "outputs": [],
   "source": [
    "# We hit an error when an expected value is missing (enters as none, but None has no .text attribute)!\n",
    "\n",
    "for apartment in apartments:\n",
    "    print(apartment.find('span', {'class' : 'housing'}).text)"
   ]
  },
  {
   "cell_type": "markdown",
   "metadata": {},
   "source": [
    "### How do we handle errors without throwing all useful info? "
   ]
  },
  {
   "cell_type": "code",
   "execution_count": null,
   "metadata": {},
   "outputs": [],
   "source": [
    "apartment_dict = {}\n",
    "col_names = []\n",
    "for apartment in apartments:\n",
    "    pid = apartment['data-pid']\n",
    "    price = apartment.find('span', {'class' : 'result-price'}).text\n",
    "    title = apartment.find('a', {'class' : 'result-title hdrlnk'}).text\n",
    "    \n",
    "    try: \n",
    "        bdr = apartment.find('span', {'class' : 'housing'}).text.strip()\n",
    "        \n",
    "    except:\n",
    "        bdr = 'None -'\n",
    "    \n",
    "    time_posted = apartment.find('time', {'class' : 'result-date'})['datetime']\n",
    "    apartment_dict[pid] = [title, price, time_posted]\n",
    "    \n",
    "    apartment_dict[pid] = [title, price, bdr, time_posted]\n",
    "col_names.append(['title', 'price', 'bdr', 'time_posted'])"
   ]
  },
  {
   "cell_type": "code",
   "execution_count": null,
   "metadata": {},
   "outputs": [],
   "source": [
    "import pandas as pd\n",
    "### .T means transpose columns to rows!\n",
    "\n",
    "apartment_df = pd.DataFrame(apartment_dict).T\n",
    "apartment_df.columns = col_names"
   ]
  },
  {
   "cell_type": "code",
   "execution_count": null,
   "metadata": {},
   "outputs": [],
   "source": [
    "apartment_df = apartment_df.reset_index()"
   ]
  },
  {
   "cell_type": "code",
   "execution_count": null,
   "metadata": {
    "scrolled": true
   },
   "outputs": [],
   "source": [
    "apartment_df"
   ]
  },
  {
   "cell_type": "markdown",
   "metadata": {},
   "source": [
    "### Function"
   ]
  },
  {
   "cell_type": "code",
   "execution_count": null,
   "metadata": {},
   "outputs": [],
   "source": [
    "craigslist_request = requests.get('https://newyork.craigslist.org/search/brk/aap')"
   ]
  },
  {
   "cell_type": "code",
   "execution_count": null,
   "metadata": {},
   "outputs": [],
   "source": [
    "import pandas as pd\n",
    "import requests\n",
    "from bs4 import BeautifulSoup\n",
    "\n",
    "def cl_scrape(url):\n",
    "        \n",
    "    craigslist_request = requests.get(url)\n",
    "    craigslist_soup = BeautifulSoup(craigslist_request.text)\n",
    "    \n",
    "    apartments =  craigslist_soup.findAll('li', {'class':\"result-row\"})\n",
    "    \n",
    "    apartment_dict = {}\n",
    "    col_names = []\n",
    "    \n",
    "    for apartment in apartments:\n",
    "        pid = apartment['data-pid']\n",
    "        \n",
    "        price = apartment.find('span', {'class' : 'result-price'}).text\n",
    "        \n",
    "        title = apartment.find('a', {'class' : 'result-title hdrlnk'}).text\n",
    "\n",
    "        \n",
    "        try: \n",
    "            bdr = apartment.find('span', {'class' : 'housing'}).text.strip()\n",
    "\n",
    "        except:\n",
    "            bdr = 'None -'\n",
    "\n",
    "        time_posted = apartment.find('time', {'class' : 'result-date'})['datetime']\n",
    "        apartment_dict[pid] = [title, price, time_posted]\n",
    "\n",
    "        apartment_dict[pid] = [title, price, bdr, time_posted]\n",
    "    col_names.append(['title', 'price', 'bdr', 'time_posted'])\n",
    "    \n",
    "    apartment_df = pd.DataFrame(apartment_dict).T\n",
    "    \n",
    "    apartment_df.columns = col_names\n",
    "    \n",
    "    return apartment_df"
   ]
  },
  {
   "cell_type": "code",
   "execution_count": null,
   "metadata": {
    "scrolled": true
   },
   "outputs": [],
   "source": [
    "df = cl_scrape('https://newyork.craigslist.org/search/brk/aap')\n",
    "\n",
    "df"
   ]
  }
 ],
 "metadata": {
  "kernelspec": {
   "display_name": "Python 3",
   "language": "python",
   "name": "python3"
  },
  "language_info": {
   "codemirror_mode": {
    "name": "ipython",
    "version": 3
   },
   "file_extension": ".py",
   "mimetype": "text/x-python",
   "name": "python",
   "nbconvert_exporter": "python",
   "pygments_lexer": "ipython3",
   "version": "3.7.3"
  }
 },
 "nbformat": 4,
 "nbformat_minor": 2
}
