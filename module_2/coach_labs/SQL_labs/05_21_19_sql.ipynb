{
 "cells": [
  {
   "cell_type": "markdown",
   "metadata": {},
   "source": [
    "### Import packages "
   ]
  },
  {
   "cell_type": "code",
   "execution_count": 1,
   "metadata": {},
   "outputs": [],
   "source": [
    "import sqlite3\n",
    "import pandas as pd"
   ]
  },
  {
   "cell_type": "markdown",
   "metadata": {},
   "source": [
    "### Connect to database"
   ]
  },
  {
   "cell_type": "code",
   "execution_count": 13,
   "metadata": {},
   "outputs": [],
   "source": [
    "conn = sqlite3.connect('amazon_.db')\n",
    "c = conn.cursor()"
   ]
  },
  {
   "cell_type": "code",
   "execution_count": 14,
   "metadata": {},
   "outputs": [
    {
     "data": {
      "text/plain": [
       "<sqlite3.Cursor at 0x1203277a0>"
      ]
     },
     "execution_count": 14,
     "metadata": {},
     "output_type": "execute_result"
    }
   ],
   "source": [
    "c.execute(\"\"\"SELECT * FROM books\n",
    "LIMIT 5; \"\"\") "
   ]
  },
  {
   "cell_type": "code",
   "execution_count": 15,
   "metadata": {},
   "outputs": [
    {
     "data": {
      "text/html": [
       "<div>\n",
       "<style scoped>\n",
       "    .dataframe tbody tr th:only-of-type {\n",
       "        vertical-align: middle;\n",
       "    }\n",
       "\n",
       "    .dataframe tbody tr th {\n",
       "        vertical-align: top;\n",
       "    }\n",
       "\n",
       "    .dataframe thead th {\n",
       "        text-align: right;\n",
       "    }\n",
       "</style>\n",
       "<table border=\"1\" class=\"dataframe\">\n",
       "  <thead>\n",
       "    <tr style=\"text-align: right;\">\n",
       "      <th></th>\n",
       "      <th>books</th>\n",
       "      <th>num_copies</th>\n",
       "    </tr>\n",
       "  </thead>\n",
       "  <tbody>\n",
       "    <tr>\n",
       "      <th>0</th>\n",
       "      <td>A Elephant Ate Under A Fish</td>\n",
       "      <td>4226324</td>\n",
       "    </tr>\n",
       "    <tr>\n",
       "      <th>1</th>\n",
       "      <td>A Boy Jumped Outside A Lake</td>\n",
       "      <td>4048899</td>\n",
       "    </tr>\n",
       "    <tr>\n",
       "      <th>2</th>\n",
       "      <td>One Man Hopped Under The Tree</td>\n",
       "      <td>774329</td>\n",
       "    </tr>\n",
       "    <tr>\n",
       "      <th>3</th>\n",
       "      <td>A Person Threw Behind The Notebook</td>\n",
       "      <td>1359606</td>\n",
       "    </tr>\n",
       "    <tr>\n",
       "      <th>4</th>\n",
       "      <td>The Tree Ran Through A Mountain</td>\n",
       "      <td>4703380</td>\n",
       "    </tr>\n",
       "  </tbody>\n",
       "</table>\n",
       "</div>"
      ],
      "text/plain": [
       "                                books num_copies\n",
       "0         A Elephant Ate Under A Fish    4226324\n",
       "1         A Boy Jumped Outside A Lake    4048899\n",
       "2       One Man Hopped Under The Tree     774329\n",
       "3  A Person Threw Behind The Notebook    1359606\n",
       "4     The Tree Ran Through A Mountain    4703380"
      ]
     },
     "execution_count": 15,
     "metadata": {},
     "output_type": "execute_result"
    }
   ],
   "source": [
    "df = pd.DataFrame(c.fetchall())\n",
    "df.columns = [i[0] for i in c.description]\n",
    "df"
   ]
  },
  {
   "cell_type": "code",
   "execution_count": 16,
   "metadata": {},
   "outputs": [
    {
     "data": {
      "text/plain": [
       "<sqlite3.Cursor at 0x1203277a0>"
      ]
     },
     "execution_count": 16,
     "metadata": {},
     "output_type": "execute_result"
    }
   ],
   "source": [
    "c.execute(\"\"\"SELECT * FROM author\n",
    "LIMIT 5; \"\"\") "
   ]
  },
  {
   "cell_type": "code",
   "execution_count": 17,
   "metadata": {},
   "outputs": [
    {
     "data": {
      "text/html": [
       "<div>\n",
       "<style scoped>\n",
       "    .dataframe tbody tr th:only-of-type {\n",
       "        vertical-align: middle;\n",
       "    }\n",
       "\n",
       "    .dataframe tbody tr th {\n",
       "        vertical-align: top;\n",
       "    }\n",
       "\n",
       "    .dataframe thead th {\n",
       "        text-align: right;\n",
       "    }\n",
       "</style>\n",
       "<table border=\"1\" class=\"dataframe\">\n",
       "  <thead>\n",
       "    <tr style=\"text-align: right;\">\n",
       "      <th></th>\n",
       "      <th>author</th>\n",
       "      <th>book</th>\n",
       "    </tr>\n",
       "  </thead>\n",
       "  <tbody>\n",
       "    <tr>\n",
       "      <th>0</th>\n",
       "      <td>David Taylor</td>\n",
       "      <td>A Guy Dove Outside The Desk</td>\n",
       "    </tr>\n",
       "    <tr>\n",
       "      <th>1</th>\n",
       "      <td>Sidney Osborne</td>\n",
       "      <td>A Fish Hopped Through A Lake</td>\n",
       "    </tr>\n",
       "    <tr>\n",
       "      <th>2</th>\n",
       "      <td>Robert Martin</td>\n",
       "      <td>The Woman Winced Outside A Desk</td>\n",
       "    </tr>\n",
       "    <tr>\n",
       "      <th>3</th>\n",
       "      <td>Greg Simpson</td>\n",
       "      <td>A Banana Winced Outside The Banana</td>\n",
       "    </tr>\n",
       "    <tr>\n",
       "      <th>4</th>\n",
       "      <td>Edgar Williamson</td>\n",
       "      <td>A Person Ate Behind The Potato</td>\n",
       "    </tr>\n",
       "  </tbody>\n",
       "</table>\n",
       "</div>"
      ],
      "text/plain": [
       "             author                                book\n",
       "0      David Taylor         A Guy Dove Outside The Desk\n",
       "1    Sidney Osborne        A Fish Hopped Through A Lake\n",
       "2     Robert Martin     The Woman Winced Outside A Desk\n",
       "3      Greg Simpson  A Banana Winced Outside The Banana\n",
       "4  Edgar Williamson      A Person Ate Behind The Potato"
      ]
     },
     "execution_count": 17,
     "metadata": {},
     "output_type": "execute_result"
    }
   ],
   "source": [
    "df = pd.DataFrame(c.fetchall())\n",
    "df.columns = [i[0] for i in c.description]\n",
    "df"
   ]
  },
  {
   "cell_type": "markdown",
   "metadata": {},
   "source": [
    "### Questions\n",
    "\n",
    "1. How many rows are in the author and books tables?\n",
    "\n",
    "2. How many authors (share) didn't sell some of their book? \n",
    "\n",
    "3. How many duplicates are there in the author table?   \n",
    "\n",
    "4. How many authors (share) didn't sell any book?\n",
    "\n",
    "5. Return the names of these authors.\n",
    "\n",
    "6. How many books in total each author has sold? \n",
    "\n",
    "7. Choose only authors who have sold more than 400K copies\n",
    "    - use subquery first\n",
    "    - can you use something else? \n",
    "\n",
    "8. Get all authors that have their name starting with 'a'\n",
    "    - Use substr first\n",
    "    - Can you use a wild card? \n",
    "\n",
    "9. Count the number of authors that have their name starting with 'a' and that have single books that\n",
    "    sold more than 200K copis\n",
    "    - Can you use WITH"
   ]
  }
 ],
 "metadata": {
  "kernelspec": {
   "display_name": "Python 3",
   "language": "python",
   "name": "python3"
  },
  "language_info": {
   "codemirror_mode": {
    "name": "ipython",
    "version": 3
   },
   "file_extension": ".py",
   "mimetype": "text/x-python",
   "name": "python",
   "nbconvert_exporter": "python",
   "pygments_lexer": "ipython3",
   "version": "3.7.1"
  }
 },
 "nbformat": 4,
 "nbformat_minor": 2
}
